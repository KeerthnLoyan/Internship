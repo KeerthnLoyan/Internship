{
 "cells": [
  {
   "cell_type": "code",
   "execution_count": 2,
   "id": "049833a4",
   "metadata": {},
   "outputs": [
    {
     "name": "stdout",
     "output_type": "stream",
     "text": [
      "Requirement already satisfied: selenium in c:\\programdata\\anaconda3\\lib\\site-packages (4.2.0)\n",
      "Requirement already satisfied: trio-websocket~=0.9 in c:\\programdata\\anaconda3\\lib\\site-packages (from selenium) (0.9.2)\n",
      "Requirement already satisfied: urllib3[secure,socks]~=1.26 in c:\\programdata\\anaconda3\\lib\\site-packages (from selenium) (1.26.7)\n",
      "Requirement already satisfied: trio~=0.17 in c:\\programdata\\anaconda3\\lib\\site-packages (from selenium) (0.20.0)\n",
      "Requirement already satisfied: sniffio in c:\\programdata\\anaconda3\\lib\\site-packages (from trio~=0.17->selenium) (1.2.0)\n",
      "Requirement already satisfied: async-generator>=1.9 in c:\\programdata\\anaconda3\\lib\\site-packages (from trio~=0.17->selenium) (1.10)\n",
      "Requirement already satisfied: sortedcontainers in c:\\programdata\\anaconda3\\lib\\site-packages (from trio~=0.17->selenium) (2.4.0)\n",
      "Requirement already satisfied: idna in c:\\programdata\\anaconda3\\lib\\site-packages (from trio~=0.17->selenium) (3.2)\n",
      "Requirement already satisfied: attrs>=19.2.0 in c:\\programdata\\anaconda3\\lib\\site-packages (from trio~=0.17->selenium) (21.2.0)\n",
      "Requirement already satisfied: cffi>=1.14 in c:\\programdata\\anaconda3\\lib\\site-packages (from trio~=0.17->selenium) (1.14.6)\n",
      "Requirement already satisfied: outcome in c:\\programdata\\anaconda3\\lib\\site-packages (from trio~=0.17->selenium) (1.1.0)\n",
      "Requirement already satisfied: pycparser in c:\\programdata\\anaconda3\\lib\\site-packages (from cffi>=1.14->trio~=0.17->selenium) (2.20)\n",
      "Requirement already satisfied: wsproto>=0.14 in c:\\programdata\\anaconda3\\lib\\site-packages (from trio-websocket~=0.9->selenium) (1.1.0)\n",
      "Requirement already satisfied: pyOpenSSL>=0.14 in c:\\programdata\\anaconda3\\lib\\site-packages (from urllib3[secure,socks]~=1.26->selenium) (21.0.0)\n",
      "Requirement already satisfied: cryptography>=1.3.4 in c:\\programdata\\anaconda3\\lib\\site-packages (from urllib3[secure,socks]~=1.26->selenium) (3.4.8)\n",
      "Requirement already satisfied: certifi in c:\\programdata\\anaconda3\\lib\\site-packages (from urllib3[secure,socks]~=1.26->selenium) (2021.10.8)\n",
      "Requirement already satisfied: PySocks!=1.5.7,<2.0,>=1.5.6 in c:\\programdata\\anaconda3\\lib\\site-packages (from urllib3[secure,socks]~=1.26->selenium) (1.7.1)\n",
      "Requirement already satisfied: six>=1.5.2 in c:\\programdata\\anaconda3\\lib\\site-packages (from pyOpenSSL>=0.14->urllib3[secure,socks]~=1.26->selenium) (1.16.0)\n",
      "Requirement already satisfied: h11<1,>=0.9.0 in c:\\programdata\\anaconda3\\lib\\site-packages (from wsproto>=0.14->trio-websocket~=0.9->selenium) (0.13.0)\n",
      "Note: you may need to restart the kernel to use updated packages.\n"
     ]
    },
    {
     "name": "stderr",
     "output_type": "stream",
     "text": [
      "WARNING: Ignoring invalid distribution -arso (c:\\programdata\\anaconda3\\lib\\site-packages)\n",
      "WARNING: Ignoring invalid distribution -arso (c:\\programdata\\anaconda3\\lib\\site-packages)\n",
      "WARNING: Ignoring invalid distribution -arso (c:\\programdata\\anaconda3\\lib\\site-packages)\n",
      "WARNING: Ignoring invalid distribution -arso (c:\\programdata\\anaconda3\\lib\\site-packages)\n",
      "WARNING: Ignoring invalid distribution -arso (c:\\programdata\\anaconda3\\lib\\site-packages)\n",
      "WARNING: Ignoring invalid distribution -arso (c:\\programdata\\anaconda3\\lib\\site-packages)\n"
     ]
    }
   ],
   "source": [
    "pip install selenium"
   ]
  },
  {
   "cell_type": "markdown",
   "id": "07fccc7f",
   "metadata": {},
   "source": [
    "# Q1: Write a python program to scrape data for “Data Analyst” Job position in “Bangalore” location. You\n",
    "have to scrape the job-title, job-location, company_name, experience_required. You have to scrape first 10\n",
    "jobs data.\n",
    "This task will be done in following steps:\n",
    "1. First get the webpage https://www.naukri.com/\n",
    "2. Enter “Data Analyst” in “Skill, Designations, Companies” field and enter “Bangalore” in “enter the\n",
    "location” field.\n",
    "3. Then click the search button.\n",
    "4. Then scrape the data for the first 10 jobs results you get.\n",
    "5. Finally create a dataframe of the scraped data.\n",
    "Note: All of the above steps have to be done in code. No step is to be done manually."
   ]
  },
  {
   "cell_type": "code",
   "execution_count": 1,
   "id": "96dab230",
   "metadata": {},
   "outputs": [],
   "source": [
    "import selenium\n",
    "import pandas as pd\n",
    "from selenium import webdriver\n",
    "import warnings\n",
    "warnings.filterwarnings('ignore')\n",
    "import time"
   ]
  },
  {
   "cell_type": "code",
   "execution_count": 77,
   "id": "231ad67d",
   "metadata": {},
   "outputs": [],
   "source": [
    "#Lets connect with web driver\n",
    "#driver=webdriver.Chrome(r\"C:\\Web driver\\chromedriver.exe\")\n"
   ]
  },
  {
   "cell_type": "code",
   "execution_count": 547,
   "id": "fb384037",
   "metadata": {},
   "outputs": [],
   "source": [
    "driver=webdriver.Chrome(\"chromedriver.exe\") #Run from the current directory\n",
    "time.sleep(2)"
   ]
  },
  {
   "cell_type": "code",
   "execution_count": 549,
   "id": "531061fe",
   "metadata": {},
   "outputs": [],
   "source": [
    "#Opening the naukri.com website\n",
    "driver.get(\"https://www.naukri.com/\")"
   ]
  },
  {
   "cell_type": "code",
   "execution_count": null,
   "id": "8afa4abb",
   "metadata": {},
   "outputs": [],
   "source": [
    "# Send the key to \"Data Analyst\"\n",
    "search_field_destination=driver.find_element_by_class_name('suggestor-input')#Job search bar\n",
    "search_field_destination.send_keys('Data Analyst')"
   ]
  },
  {
   "cell_type": "code",
   "execution_count": 197,
   "id": "4a6b99e8",
   "metadata": {},
   "outputs": [],
   "source": [
    "search_field_loc=driver.find_element_by_xpath('/html/body/div/div[2]/div[3]/div/div/div[5]/div/div/div/input')# Absolute path\n",
    "#purpose of using abosulte path is it has 2 column field so we choose absolute path to find the location\n",
    "search_field_loc.send_keys('Bangalore')"
   ]
  },
  {
   "cell_type": "code",
   "execution_count": 198,
   "id": "3e44089f",
   "metadata": {},
   "outputs": [],
   "source": [
    "search_button=driver.find_element_by_xpath('/html/body/div/div[2]/div[3]/div/div/div[6]')# Absolute path\n",
    "search_button.click()"
   ]
  },
  {
   "cell_type": "code",
   "execution_count": 117,
   "id": "29fd0b98",
   "metadata": {},
   "outputs": [],
   "source": [
    "job_title_list=[]\n",
    "company_name_list=[]\n",
    "location_list=[]\n",
    "experience_list=[]"
   ]
  },
  {
   "cell_type": "code",
   "execution_count": 118,
   "id": "7e7fe9c7",
   "metadata": {},
   "outputs": [
    {
     "data": {
      "text/plain": [
       "[<selenium.webdriver.remote.webelement.WebElement (session=\"a71b04efbfc60776d141a83d9fa5881e\", element=\"63c7d34d-3ab5-4ac3-8113-0579887d12b8\")>,\n",
       " <selenium.webdriver.remote.webelement.WebElement (session=\"a71b04efbfc60776d141a83d9fa5881e\", element=\"c4cdee93-03a9-4c33-88c8-96366042e32b\")>,\n",
       " <selenium.webdriver.remote.webelement.WebElement (session=\"a71b04efbfc60776d141a83d9fa5881e\", element=\"7504a437-1fa6-449b-8a54-bd6f6e4b4d79\")>,\n",
       " <selenium.webdriver.remote.webelement.WebElement (session=\"a71b04efbfc60776d141a83d9fa5881e\", element=\"61583c53-7db9-4585-bbde-1381ef0b6611\")>,\n",
       " <selenium.webdriver.remote.webelement.WebElement (session=\"a71b04efbfc60776d141a83d9fa5881e\", element=\"cc9c535d-9fe8-403b-b1a6-7e3f370fe192\")>,\n",
       " <selenium.webdriver.remote.webelement.WebElement (session=\"a71b04efbfc60776d141a83d9fa5881e\", element=\"f931ddd2-8b18-4173-94b3-cafd03b2a514\")>,\n",
       " <selenium.webdriver.remote.webelement.WebElement (session=\"a71b04efbfc60776d141a83d9fa5881e\", element=\"3dac966b-8e76-4604-ab75-fcf2faea455b\")>,\n",
       " <selenium.webdriver.remote.webelement.WebElement (session=\"a71b04efbfc60776d141a83d9fa5881e\", element=\"9fa07053-e7de-4210-a94d-d18fdfa2e10e\")>,\n",
       " <selenium.webdriver.remote.webelement.WebElement (session=\"a71b04efbfc60776d141a83d9fa5881e\", element=\"11362f45-4075-4740-b4c1-aff39e1bde7c\")>,\n",
       " <selenium.webdriver.remote.webelement.WebElement (session=\"a71b04efbfc60776d141a83d9fa5881e\", element=\"0e25dc94-02c9-4f80-9cd2-dcad49589c51\")>]"
      ]
     },
     "execution_count": 118,
     "metadata": {},
     "output_type": "execute_result"
    }
   ],
   "source": [
    "#To extract the all the job titles having\n",
    "title_tag=driver.find_elements_by_xpath('//a[@class=\"title fw500 ellipsis\"]') #Relaticve path\n",
    "title_tag[0:10]# To give the range to extract the 10 results"
   ]
  },
  {
   "cell_type": "code",
   "execution_count": 129,
   "id": "e3ea738c",
   "metadata": {},
   "outputs": [
    {
     "data": {
      "text/plain": [
       "['Data Analyst /Senior Data Analyst/Lead Data Analyst',\n",
       " 'Master Data Management Business Analyst',\n",
       " 'Data Analyst ll - Data Science',\n",
       " 'IT Data Analyst',\n",
       " 'Data Analyst',\n",
       " 'Data Analyst',\n",
       " 'Senior Data Management Analyst',\n",
       " 'Senior Data Management Analyst',\n",
       " 'Data Analyst',\n",
       " 'Data Analyst - Marketing']"
      ]
     },
     "execution_count": 129,
     "metadata": {},
     "output_type": "execute_result"
    }
   ],
   "source": [
    "\n",
    "#Loop to iterate the tag extract from the abovr code\n",
    "for i in title_tag:#iterating the web element over the title tag\n",
    "    title=i.text # Extracting text from web element\n",
    "    job_title_list.append(title) #appending to the extracted test list to job title list\n",
    "job_title=job_title_list[0:10]   #print the top 10 data\n",
    "job_title"
   ]
  },
  {
   "cell_type": "code",
   "execution_count": 124,
   "id": "37090b14",
   "metadata": {},
   "outputs": [
    {
     "data": {
      "text/plain": [
       "[<selenium.webdriver.remote.webelement.WebElement (session=\"a71b04efbfc60776d141a83d9fa5881e\", element=\"e49773e7-d47d-46b9-b3c9-21c53fb79f9a\")>,\n",
       " <selenium.webdriver.remote.webelement.WebElement (session=\"a71b04efbfc60776d141a83d9fa5881e\", element=\"dfb85430-1caf-49c9-aa82-cbd30b04448d\")>,\n",
       " <selenium.webdriver.remote.webelement.WebElement (session=\"a71b04efbfc60776d141a83d9fa5881e\", element=\"2d57e502-f175-4689-8ba6-a304ba0558b3\")>,\n",
       " <selenium.webdriver.remote.webelement.WebElement (session=\"a71b04efbfc60776d141a83d9fa5881e\", element=\"fe77117d-146e-4dde-9690-ba1d161ce513\")>,\n",
       " <selenium.webdriver.remote.webelement.WebElement (session=\"a71b04efbfc60776d141a83d9fa5881e\", element=\"9bd9f4cb-c4bb-4a12-86a7-be14022052a2\")>,\n",
       " <selenium.webdriver.remote.webelement.WebElement (session=\"a71b04efbfc60776d141a83d9fa5881e\", element=\"6fe56ac7-d390-4449-adc5-bb1d8c905646\")>,\n",
       " <selenium.webdriver.remote.webelement.WebElement (session=\"a71b04efbfc60776d141a83d9fa5881e\", element=\"002fb5c2-1725-47ef-b446-92e5265b00ea\")>,\n",
       " <selenium.webdriver.remote.webelement.WebElement (session=\"a71b04efbfc60776d141a83d9fa5881e\", element=\"e017452d-8c78-4ee7-b895-3addc0cf56ad\")>,\n",
       " <selenium.webdriver.remote.webelement.WebElement (session=\"a71b04efbfc60776d141a83d9fa5881e\", element=\"5bdcd329-547e-4d36-ba85-e63044417dbf\")>]"
      ]
     },
     "execution_count": 124,
     "metadata": {},
     "output_type": "execute_result"
    }
   ],
   "source": [
    "#To extract the location\n",
    "loc=driver.find_elements_by_xpath('//li[@class=\"fleft grey-text br2 placeHolderLi location\"]') #Relaticve path\n",
    "loc[0:9]# To give the range to extract the 10 results"
   ]
  },
  {
   "cell_type": "code",
   "execution_count": 131,
   "id": "0a9ffac8",
   "metadata": {},
   "outputs": [
    {
     "data": {
      "text/plain": [
       "['Bangalore/Bengaluru',\n",
       " 'Bangalore/Bengaluru',\n",
       " 'Bangalore/Bengaluru',\n",
       " 'Bangalore/Bengaluru',\n",
       " 'Bangalore/Bengaluru',\n",
       " 'Pune, Bangalore/Bengaluru, Delhi / NCR\\n(WFH during Covid)',\n",
       " 'Serilingampally, Bangalore/Bengaluru',\n",
       " 'Bangalore/Bengaluru',\n",
       " 'Bangalore/Bengaluru(Jayanagar)',\n",
       " 'Bangalore/Bengaluru']"
      ]
     },
     "execution_count": 131,
     "metadata": {},
     "output_type": "execute_result"
    }
   ],
   "source": [
    "for i in loc:#iterating the web element over the title tag\n",
    "    title=i.text # Extracting text from web element\n",
    "    location_list.append(title) #appending to the extracted test list to job title list\n",
    "location=location_list[0:10]   #print the top 10 data\n",
    "location"
   ]
  },
  {
   "cell_type": "code",
   "execution_count": 199,
   "id": "20da8251",
   "metadata": {},
   "outputs": [
    {
     "data": {
      "text/plain": [
       "[<selenium.webdriver.remote.webelement.WebElement (session=\"5df7837ae2509aaaec1a63672f14c61b\", element=\"b694adc7-cf14-4f99-9e7b-7ef25463de67\")>,\n",
       " <selenium.webdriver.remote.webelement.WebElement (session=\"5df7837ae2509aaaec1a63672f14c61b\", element=\"d7acb5eb-e0a7-4316-a92d-92b38fc42bb6\")>,\n",
       " <selenium.webdriver.remote.webelement.WebElement (session=\"5df7837ae2509aaaec1a63672f14c61b\", element=\"f27f848d-1d7f-42be-8e4f-f38beb5d34e4\")>,\n",
       " <selenium.webdriver.remote.webelement.WebElement (session=\"5df7837ae2509aaaec1a63672f14c61b\", element=\"1c468994-dc07-48de-b7c0-c675e52b7c2b\")>,\n",
       " <selenium.webdriver.remote.webelement.WebElement (session=\"5df7837ae2509aaaec1a63672f14c61b\", element=\"fcca901a-affd-4481-9ddc-4330b4cedd6f\")>,\n",
       " <selenium.webdriver.remote.webelement.WebElement (session=\"5df7837ae2509aaaec1a63672f14c61b\", element=\"7d4cb979-9931-4bd7-885e-ecc1fc93e97d\")>,\n",
       " <selenium.webdriver.remote.webelement.WebElement (session=\"5df7837ae2509aaaec1a63672f14c61b\", element=\"e2a41b38-19a8-4296-a787-8406fe96738a\")>,\n",
       " <selenium.webdriver.remote.webelement.WebElement (session=\"5df7837ae2509aaaec1a63672f14c61b\", element=\"821be01e-71ba-4a87-8fc4-5082f2df6aa7\")>,\n",
       " <selenium.webdriver.remote.webelement.WebElement (session=\"5df7837ae2509aaaec1a63672f14c61b\", element=\"dcf3a6bf-1e5d-4fbe-bcf7-e91de239edc2\")>,\n",
       " <selenium.webdriver.remote.webelement.WebElement (session=\"5df7837ae2509aaaec1a63672f14c61b\", element=\"f78881c7-e1ce-43da-af25-ee34fb8746e7\")>]"
      ]
     },
     "execution_count": 199,
     "metadata": {},
     "output_type": "execute_result"
    }
   ],
   "source": [
    "#To extract the company name\n",
    "company_name=driver.find_elements_by_xpath('//a[@class=\"subTitle ellipsis fleft\"]') #Relaticve path\n",
    "company_name[0:10]# To give the range to extract the 9 results"
   ]
  },
  {
   "cell_type": "code",
   "execution_count": 200,
   "id": "9a1d174c",
   "metadata": {},
   "outputs": [
    {
     "data": {
      "text/plain": [
       "['Wipro',\n",
       " 'Ashkom Media India Private Limited',\n",
       " 'UPL',\n",
       " 'Jacobs',\n",
       " 'Wipro',\n",
       " 'SAP',\n",
       " 'SAP',\n",
       " 'Accenture',\n",
       " 'Accenture',\n",
       " 'IBM']"
      ]
     },
     "execution_count": 200,
     "metadata": {},
     "output_type": "execute_result"
    }
   ],
   "source": [
    "\n",
    "#Loop to iterate the tag extract from the abovr code\n",
    "for i in company_name:#iterating the web element over the title tag\n",
    "    title=i.text # Extracting text from web element\n",
    "    company_name_list.append(title.replace(\"Reviews\",'')) #appending to the extracted test list to job title list\n",
    "company=company_name_list[0:10]   #print the top 10 data\n",
    "company"
   ]
  },
  {
   "cell_type": "code",
   "execution_count": 201,
   "id": "4186342c",
   "metadata": {},
   "outputs": [
    {
     "data": {
      "text/plain": [
       "[<selenium.webdriver.remote.webelement.WebElement (session=\"5df7837ae2509aaaec1a63672f14c61b\", element=\"adb9a595-e540-4833-90d3-fce3a0dbe25c\")>,\n",
       " <selenium.webdriver.remote.webelement.WebElement (session=\"5df7837ae2509aaaec1a63672f14c61b\", element=\"e29c907f-67a2-403d-ad31-64ca6d00617d\")>,\n",
       " <selenium.webdriver.remote.webelement.WebElement (session=\"5df7837ae2509aaaec1a63672f14c61b\", element=\"0ab2256e-fc7d-42d2-bb8c-a96aedb2dcf4\")>,\n",
       " <selenium.webdriver.remote.webelement.WebElement (session=\"5df7837ae2509aaaec1a63672f14c61b\", element=\"9f63232f-6d29-4d7f-b100-df7a4c041ad6\")>,\n",
       " <selenium.webdriver.remote.webelement.WebElement (session=\"5df7837ae2509aaaec1a63672f14c61b\", element=\"9bab4979-08d4-4800-8d2d-d3bedb8963fa\")>,\n",
       " <selenium.webdriver.remote.webelement.WebElement (session=\"5df7837ae2509aaaec1a63672f14c61b\", element=\"3fb2e035-0d64-49c8-b3f6-460a765ac73c\")>,\n",
       " <selenium.webdriver.remote.webelement.WebElement (session=\"5df7837ae2509aaaec1a63672f14c61b\", element=\"6cf58a7e-3447-41d4-996f-0937b60ae9a8\")>,\n",
       " <selenium.webdriver.remote.webelement.WebElement (session=\"5df7837ae2509aaaec1a63672f14c61b\", element=\"fb89aed4-9af3-4ff6-83da-cec0b6da865c\")>,\n",
       " <selenium.webdriver.remote.webelement.WebElement (session=\"5df7837ae2509aaaec1a63672f14c61b\", element=\"6a30a956-9556-435b-a950-f1a3d19cf350\")>,\n",
       " <selenium.webdriver.remote.webelement.WebElement (session=\"5df7837ae2509aaaec1a63672f14c61b\", element=\"8ede0681-6382-4e05-9ee9-fbc5bba11b9c\")>]"
      ]
     },
     "execution_count": 201,
     "metadata": {},
     "output_type": "execute_result"
    }
   ],
   "source": [
    "#To extract the experience\n",
    "exp=driver.find_elements_by_xpath('//li[@class=\"fleft grey-text br2 placeHolderLi experience\"]/span[1]') #Relaticve path\n",
    "exp[0:10]# To give the range to extract the 10 results\n"
   ]
  },
  {
   "cell_type": "code",
   "execution_count": 202,
   "id": "607dd3ec",
   "metadata": {},
   "outputs": [
    {
     "data": {
      "text/plain": [
       "['6-11 Yrs',\n",
       " '1-4 Yrs',\n",
       " '2-7 Yrs',\n",
       " '3-5 Yrs',\n",
       " '2-7 Yrs',\n",
       " '12-16 Yrs',\n",
       " '5-10 Yrs',\n",
       " '7-11 Yrs',\n",
       " '5-10 Yrs',\n",
       " '3-7 Yrs']"
      ]
     },
     "execution_count": 202,
     "metadata": {},
     "output_type": "execute_result"
    }
   ],
   "source": [
    "\n",
    "for i in exp:#iterating the web element over the title tag\n",
    "    title=i.text # Extracting text from web element\n",
    "    experience_list.append(title) #appending to the extracted test list to job title list\n",
    "experience=experience_list[0:10]   #print the top 10 data\n",
    "\n",
    "experience"
   ]
  },
  {
   "cell_type": "code",
   "execution_count": 203,
   "id": "5d343d8c",
   "metadata": {},
   "outputs": [
    {
     "name": "stdout",
     "output_type": "stream",
     "text": [
      "10 10 10 10\n"
     ]
    }
   ],
   "source": [
    "print(len(job_title),len(company),len(location),len(experience))"
   ]
  },
  {
   "cell_type": "code",
   "execution_count": 204,
   "id": "572d0869",
   "metadata": {},
   "outputs": [
    {
     "data": {
      "text/html": [
       "<div>\n",
       "<style scoped>\n",
       "    .dataframe tbody tr th:only-of-type {\n",
       "        vertical-align: middle;\n",
       "    }\n",
       "\n",
       "    .dataframe tbody tr th {\n",
       "        vertical-align: top;\n",
       "    }\n",
       "\n",
       "    .dataframe thead th {\n",
       "        text-align: right;\n",
       "    }\n",
       "</style>\n",
       "<table border=\"1\" class=\"dataframe\">\n",
       "  <thead>\n",
       "    <tr style=\"text-align: right;\">\n",
       "      <th></th>\n",
       "      <th>Job title</th>\n",
       "      <th>Location</th>\n",
       "      <th>Company Namee</th>\n",
       "      <th>Experience</th>\n",
       "    </tr>\n",
       "  </thead>\n",
       "  <tbody>\n",
       "    <tr>\n",
       "      <th>0</th>\n",
       "      <td>AI Technologist Vacancy</td>\n",
       "      <td>Kolkata, Hyderabad/Secunderabad, Pune, Ahmedab...</td>\n",
       "      <td>Wipro</td>\n",
       "      <td>6-11 Yrs</td>\n",
       "    </tr>\n",
       "    <tr>\n",
       "      <th>1</th>\n",
       "      <td>Urgent Hiring For AI Data Scientist</td>\n",
       "      <td>New Delhi, Bangalore/Bengaluru, Mumbai (All Ar...</td>\n",
       "      <td>Ashkom Media India Private Limited</td>\n",
       "      <td>1-4 Yrs</td>\n",
       "    </tr>\n",
       "    <tr>\n",
       "      <th>2</th>\n",
       "      <td>Data Scientist</td>\n",
       "      <td>Mumbai, Bangalore/Bengaluru</td>\n",
       "      <td>UPL</td>\n",
       "      <td>2-7 Yrs</td>\n",
       "    </tr>\n",
       "    <tr>\n",
       "      <th>3</th>\n",
       "      <td>Data Scientist</td>\n",
       "      <td>Bangalore/Bengaluru, Delhi / NCR, Mumbai (All ...</td>\n",
       "      <td>Jacobs</td>\n",
       "      <td>3-5 Yrs</td>\n",
       "    </tr>\n",
       "    <tr>\n",
       "      <th>4</th>\n",
       "      <td>Job Opening with Wipro For Data Scientist posi...</td>\n",
       "      <td>Kolkata, Hyderabad/Secunderabad, Chennai, Bang...</td>\n",
       "      <td>Wipro</td>\n",
       "      <td>2-7 Yrs</td>\n",
       "    </tr>\n",
       "    <tr>\n",
       "      <th>5</th>\n",
       "      <td>Data Science Expert - Quality &amp; Test Engineering</td>\n",
       "      <td>Bangalore/Bengaluru</td>\n",
       "      <td>SAP</td>\n",
       "      <td>12-16 Yrs</td>\n",
       "    </tr>\n",
       "    <tr>\n",
       "      <th>6</th>\n",
       "      <td>Applied Data Scientist / ML Senior Engineer (P...</td>\n",
       "      <td>Bangalore/Bengaluru</td>\n",
       "      <td>SAP</td>\n",
       "      <td>5-10 Yrs</td>\n",
       "    </tr>\n",
       "    <tr>\n",
       "      <th>7</th>\n",
       "      <td>Team Lead/Consultant-Data Science</td>\n",
       "      <td>Bangalore/Bengaluru</td>\n",
       "      <td>Accenture</td>\n",
       "      <td>7-11 Yrs</td>\n",
       "    </tr>\n",
       "    <tr>\n",
       "      <th>8</th>\n",
       "      <td>Data Science Associate Manager</td>\n",
       "      <td>Bangalore/Bengaluru</td>\n",
       "      <td>Accenture</td>\n",
       "      <td>5-10 Yrs</td>\n",
       "    </tr>\n",
       "    <tr>\n",
       "      <th>9</th>\n",
       "      <td>Research Scientist</td>\n",
       "      <td>Bangalore/Bengaluru</td>\n",
       "      <td>IBM</td>\n",
       "      <td>3-7 Yrs</td>\n",
       "    </tr>\n",
       "  </tbody>\n",
       "</table>\n",
       "</div>"
      ],
      "text/plain": [
       "                                           Job title  \\\n",
       "0                            AI Technologist Vacancy   \n",
       "1                Urgent Hiring For AI Data Scientist   \n",
       "2                                     Data Scientist   \n",
       "3                                     Data Scientist   \n",
       "4  Job Opening with Wipro For Data Scientist posi...   \n",
       "5   Data Science Expert - Quality & Test Engineering   \n",
       "6  Applied Data Scientist / ML Senior Engineer (P...   \n",
       "7                  Team Lead/Consultant-Data Science   \n",
       "8                     Data Science Associate Manager   \n",
       "9                                 Research Scientist   \n",
       "\n",
       "                                            Location  \\\n",
       "0  Kolkata, Hyderabad/Secunderabad, Pune, Ahmedab...   \n",
       "1  New Delhi, Bangalore/Bengaluru, Mumbai (All Ar...   \n",
       "2                        Mumbai, Bangalore/Bengaluru   \n",
       "3  Bangalore/Bengaluru, Delhi / NCR, Mumbai (All ...   \n",
       "4  Kolkata, Hyderabad/Secunderabad, Chennai, Bang...   \n",
       "5                                Bangalore/Bengaluru   \n",
       "6                                Bangalore/Bengaluru   \n",
       "7                                Bangalore/Bengaluru   \n",
       "8                                Bangalore/Bengaluru   \n",
       "9                                Bangalore/Bengaluru   \n",
       "\n",
       "                        Company Namee Experience  \n",
       "0                               Wipro   6-11 Yrs  \n",
       "1  Ashkom Media India Private Limited    1-4 Yrs  \n",
       "2                                 UPL    2-7 Yrs  \n",
       "3                              Jacobs    3-5 Yrs  \n",
       "4                               Wipro    2-7 Yrs  \n",
       "5                                 SAP  12-16 Yrs  \n",
       "6                                 SAP   5-10 Yrs  \n",
       "7                           Accenture   7-11 Yrs  \n",
       "8                           Accenture   5-10 Yrs  \n",
       "9                                 IBM    3-7 Yrs  "
      ]
     },
     "execution_count": 204,
     "metadata": {},
     "output_type": "execute_result"
    }
   ],
   "source": [
    "import pandas as pd\n",
    "df=pd.DataFrame({'Job title':job_title,'Location':location,'Company Namee':company,'Experience':experience})\n",
    "df"
   ]
  },
  {
   "cell_type": "code",
   "execution_count": 166,
   "id": "df9fac2f",
   "metadata": {},
   "outputs": [
    {
     "data": {
      "text/plain": [
       "<bound method WebDriver.close of <selenium.webdriver.chrome.webdriver.WebDriver (session=\"a71b04efbfc60776d141a83d9fa5881e\")>>"
      ]
     },
     "execution_count": 166,
     "metadata": {},
     "output_type": "execute_result"
    }
   ],
   "source": [
    "driver.close"
   ]
  },
  {
   "cell_type": "markdown",
   "id": "086f2859",
   "metadata": {},
   "source": [
    "# Q2: Write a python program to scrape data for “Data Scientist” Job position in “Bangalore” location. You\n",
    "have to scrape the job-title, job-location, company_name. You have to scrape first 10 jobs data.\n",
    "This task will be done in following steps:\n",
    "1. First get the webpage https://www.naukri.com/\n",
    "2. Enter “Data Scientist” in “Skill, Designations, Companies” field and enter “Bangalore” in “enter the\n",
    "location” field.\n",
    "3. Then click the search button.\n",
    "4. Then scrape the data for the first 10 jobs results you get.\n",
    "5. Finally create a dataframe of the scraped data.\n",
    "Note: All of the above steps have to be done in code. No step is to be done manually."
   ]
  },
  {
   "cell_type": "code",
   "execution_count": 180,
   "id": "091f89a9",
   "metadata": {},
   "outputs": [],
   "source": [
    "driver=webdriver.Chrome(\"chromedriver.exe\") #Run from the current directory\n",
    "time.sleep(2)"
   ]
  },
  {
   "cell_type": "code",
   "execution_count": 181,
   "id": "a9e56638",
   "metadata": {},
   "outputs": [],
   "source": [
    "\n",
    "driver.get(\"https://www.naukri.com/\")\n",
    "\n"
   ]
  },
  {
   "cell_type": "code",
   "execution_count": 182,
   "id": "9681bd2d",
   "metadata": {},
   "outputs": [],
   "source": [
    "search_field_destination=driver.find_element_by_class_name('suggestor-input')#Job search bar\n",
    "search_field_destination.send_keys('Data Scientist')\n",
    "\n"
   ]
  },
  {
   "cell_type": "code",
   "execution_count": 183,
   "id": "f8cb29e9",
   "metadata": {},
   "outputs": [],
   "source": [
    "search_field_loc=driver.find_element_by_xpath('/html/body/div/div[2]/div[3]/div/div/div[5]/div/div/div/input')# Absolute path\n",
    "#purpose of using abosulte path is it has 2 column field so we choose absolute path to find the location\n",
    "search_field_loc.send_keys('Bangalore')\n",
    "\n"
   ]
  },
  {
   "cell_type": "code",
   "execution_count": 184,
   "id": "21534ca9",
   "metadata": {},
   "outputs": [],
   "source": [
    "search_button=driver.find_element_by_xpath('/html/body/div/div[2]/div[3]/div/div/div[6]')# Absolute path\n",
    "search_button.click()\n",
    "\n"
   ]
  },
  {
   "cell_type": "code",
   "execution_count": 186,
   "id": "31d6a50b",
   "metadata": {},
   "outputs": [],
   "source": [
    "job_title_list=[]\n",
    "company_name_list=[]\n",
    "location_list=[]\n",
    "experience_list=[]"
   ]
  },
  {
   "cell_type": "code",
   "execution_count": 187,
   "id": "aadcb377",
   "metadata": {},
   "outputs": [
    {
     "data": {
      "text/plain": [
       "[<selenium.webdriver.remote.webelement.WebElement (session=\"0fe4dd5c98e7a02992449a6f21cd2323\", element=\"544aa77d-1f74-4e27-8636-9024a1fe3bd0\")>,\n",
       " <selenium.webdriver.remote.webelement.WebElement (session=\"0fe4dd5c98e7a02992449a6f21cd2323\", element=\"8e57f97c-9670-49b4-a11d-1b9f2345a960\")>,\n",
       " <selenium.webdriver.remote.webelement.WebElement (session=\"0fe4dd5c98e7a02992449a6f21cd2323\", element=\"5ea5883e-71d6-4351-a055-791a76cc6e57\")>,\n",
       " <selenium.webdriver.remote.webelement.WebElement (session=\"0fe4dd5c98e7a02992449a6f21cd2323\", element=\"30eac9c5-f138-4d8f-b0b3-603c7888a328\")>,\n",
       " <selenium.webdriver.remote.webelement.WebElement (session=\"0fe4dd5c98e7a02992449a6f21cd2323\", element=\"027e7da7-6add-4557-ba80-544183342e69\")>,\n",
       " <selenium.webdriver.remote.webelement.WebElement (session=\"0fe4dd5c98e7a02992449a6f21cd2323\", element=\"10c88bcc-dd42-4bc3-9d6e-a8cc77df3aab\")>,\n",
       " <selenium.webdriver.remote.webelement.WebElement (session=\"0fe4dd5c98e7a02992449a6f21cd2323\", element=\"f0936bd2-c8c9-4b9b-baf0-0f42cca70831\")>,\n",
       " <selenium.webdriver.remote.webelement.WebElement (session=\"0fe4dd5c98e7a02992449a6f21cd2323\", element=\"b3c9c6d8-8723-4e83-b40f-2c434443594b\")>,\n",
       " <selenium.webdriver.remote.webelement.WebElement (session=\"0fe4dd5c98e7a02992449a6f21cd2323\", element=\"7de77aa7-72b7-4b59-b1d8-2e318e30a52d\")>,\n",
       " <selenium.webdriver.remote.webelement.WebElement (session=\"0fe4dd5c98e7a02992449a6f21cd2323\", element=\"c2341b3f-97cd-4333-b849-3fa833c12be1\")>]"
      ]
     },
     "execution_count": 187,
     "metadata": {},
     "output_type": "execute_result"
    }
   ],
   "source": [
    "#To extract the all the job titles having\n",
    "title_tag=driver.find_elements_by_xpath('//a[@class=\"title fw500 ellipsis\"]') #Relaticve path\n",
    "title_tag[0:10]# To give the range to extract the 10 results\n"
   ]
  },
  {
   "cell_type": "code",
   "execution_count": 188,
   "id": "3ca89f2e",
   "metadata": {},
   "outputs": [
    {
     "data": {
      "text/plain": [
       "['AI Technologist Vacancy',\n",
       " 'Urgent Hiring For AI Data Scientist',\n",
       " 'Data Scientist',\n",
       " 'Data Scientist',\n",
       " 'Job Opening with Wipro For Data Scientist position',\n",
       " 'Data Science Expert - Quality & Test Engineering',\n",
       " 'Applied Data Scientist / ML Senior Engineer (Python / SQL)',\n",
       " 'Team Lead/Consultant-Data Science',\n",
       " 'Data Science Associate Manager',\n",
       " 'Research Scientist']"
      ]
     },
     "execution_count": 188,
     "metadata": {},
     "output_type": "execute_result"
    }
   ],
   "source": [
    "#Loop to iterate the tag extract from the abovr code\n",
    "for i in title_tag:#iterating the web element over the title tag\n",
    "    title=i.text # Extracting text from web element\n",
    "    job_title_list.append(title) #appending to the extracted test list to job title list\n",
    "job_title=job_title_list[0:10]   #print the top 10 data\n",
    "job_title"
   ]
  },
  {
   "cell_type": "code",
   "execution_count": 189,
   "id": "7b904016",
   "metadata": {},
   "outputs": [
    {
     "data": {
      "text/plain": [
       "[<selenium.webdriver.remote.webelement.WebElement (session=\"0fe4dd5c98e7a02992449a6f21cd2323\", element=\"850718c9-d666-44e3-b219-dbcfd71850bd\")>,\n",
       " <selenium.webdriver.remote.webelement.WebElement (session=\"0fe4dd5c98e7a02992449a6f21cd2323\", element=\"98266a7a-9963-4bf6-8e87-07f3379091c1\")>,\n",
       " <selenium.webdriver.remote.webelement.WebElement (session=\"0fe4dd5c98e7a02992449a6f21cd2323\", element=\"94f94c46-1cdc-4bd4-91c7-2bf69dab7f92\")>,\n",
       " <selenium.webdriver.remote.webelement.WebElement (session=\"0fe4dd5c98e7a02992449a6f21cd2323\", element=\"fb2a61b0-1ac9-40ad-93c2-747604dc886f\")>,\n",
       " <selenium.webdriver.remote.webelement.WebElement (session=\"0fe4dd5c98e7a02992449a6f21cd2323\", element=\"1542c5e1-b5d6-4214-a7c2-6cd3a069b9c3\")>,\n",
       " <selenium.webdriver.remote.webelement.WebElement (session=\"0fe4dd5c98e7a02992449a6f21cd2323\", element=\"2219e25d-f8a1-4aec-9f10-9b8f67b4cc10\")>,\n",
       " <selenium.webdriver.remote.webelement.WebElement (session=\"0fe4dd5c98e7a02992449a6f21cd2323\", element=\"d2ab8550-3df3-47ba-8cc9-6bc19c71ed22\")>,\n",
       " <selenium.webdriver.remote.webelement.WebElement (session=\"0fe4dd5c98e7a02992449a6f21cd2323\", element=\"089d5d7e-5897-41be-ae1f-9f403453d681\")>,\n",
       " <selenium.webdriver.remote.webelement.WebElement (session=\"0fe4dd5c98e7a02992449a6f21cd2323\", element=\"8b7da070-3955-4ef8-8e4d-dbe5b067c273\")>]"
      ]
     },
     "execution_count": 189,
     "metadata": {},
     "output_type": "execute_result"
    }
   ],
   "source": [
    "#To extract the location\n",
    "loc=driver.find_elements_by_xpath('//li[@class=\"fleft grey-text br2 placeHolderLi location\"]/span[1]') #Relaticve path\n",
    "loc[0:9]# To give the range to extract the 10 results"
   ]
  },
  {
   "cell_type": "code",
   "execution_count": 190,
   "id": "c72c15d3",
   "metadata": {},
   "outputs": [
    {
     "data": {
      "text/plain": [
       "['Kolkata, Hyderabad/Secunderabad, Pune, Ahmedabad, Chennai, Bangalore/Bengaluru, Delhi / NCR, Mumbai (All Areas)',\n",
       " 'New Delhi, Bangalore/Bengaluru, Mumbai (All Areas)',\n",
       " 'Mumbai, Bangalore/Bengaluru',\n",
       " 'Bangalore/Bengaluru, Delhi / NCR, Mumbai (All Areas)',\n",
       " 'Kolkata, Hyderabad/Secunderabad, Chennai, Bangalore/Bengaluru, Delhi / NCR, Mumbai (All Areas)',\n",
       " 'Bangalore/Bengaluru',\n",
       " 'Bangalore/Bengaluru',\n",
       " 'Bangalore/Bengaluru',\n",
       " 'Bangalore/Bengaluru',\n",
       " 'Bangalore/Bengaluru']"
      ]
     },
     "execution_count": 190,
     "metadata": {},
     "output_type": "execute_result"
    }
   ],
   "source": [
    "for i in loc:#iterating the web element over the title tag\n",
    "    title=i.text # Extracting text from web element\n",
    "    location_list.append(title) #appending to the extracted test list to job title list\n",
    "location=location_list[0:10]   #print the top 10 data\n",
    "location"
   ]
  },
  {
   "cell_type": "code",
   "execution_count": 191,
   "id": "10fb6e44",
   "metadata": {},
   "outputs": [
    {
     "data": {
      "text/plain": [
       "['Wipro',\n",
       " 'Ashkom Media India Private Limited',\n",
       " 'UPL',\n",
       " 'Jacobs',\n",
       " 'Wipro',\n",
       " 'SAP',\n",
       " 'SAP',\n",
       " 'Accenture',\n",
       " 'Accenture',\n",
       " 'IBM']"
      ]
     },
     "execution_count": 191,
     "metadata": {},
     "output_type": "execute_result"
    }
   ],
   "source": [
    "#To extract the company name\n",
    "company_name=driver.find_elements_by_xpath('//a[@class=\"subTitle ellipsis fleft\"]') #Relaticve path\n",
    "company_name[0:10]# To give the range to extract the 9 results\n",
    "#Loop to iterate the tag extract from the abovr code\n",
    "for i in company_name:#iterating the web element over the title tag\n",
    "    title=i.text # Extracting text from web element\n",
    "    company_name_list.append(title.replace(\"Reviews\",'')) #appending to the extracted test list to job title list\n",
    "company=company_name_list[0:10]   #print the top 10 data\n",
    "company"
   ]
  },
  {
   "cell_type": "code",
   "execution_count": 192,
   "id": "19a3819b",
   "metadata": {},
   "outputs": [
    {
     "data": {
      "text/plain": [
       "['6-11 Yrs',\n",
       " '1-4 Yrs',\n",
       " '2-7 Yrs',\n",
       " '3-5 Yrs',\n",
       " '2-7 Yrs',\n",
       " '12-16 Yrs',\n",
       " '5-10 Yrs',\n",
       " '7-11 Yrs',\n",
       " '5-10 Yrs',\n",
       " '3-7 Yrs']"
      ]
     },
     "execution_count": 192,
     "metadata": {},
     "output_type": "execute_result"
    }
   ],
   "source": [
    "#To extract the experience\n",
    "exp=driver.find_elements_by_xpath('//li[@class=\"fleft grey-text br2 placeHolderLi experience\"]') #Relaticve path\n",
    "exp[0:10]# To give the range to extract the 10 results\n",
    "for i in exp:#iterating the web element over the title tag\n",
    "    title=i.text # Extracting text from web element\n",
    "    experience_list.append(title) #appending to the extracted test list to job title list\n",
    "experience=experience_list[0:10]   #print the top 10 data\n",
    "\n",
    "experience"
   ]
  },
  {
   "cell_type": "code",
   "execution_count": 193,
   "id": "91c1e680",
   "metadata": {},
   "outputs": [
    {
     "data": {
      "text/html": [
       "<div>\n",
       "<style scoped>\n",
       "    .dataframe tbody tr th:only-of-type {\n",
       "        vertical-align: middle;\n",
       "    }\n",
       "\n",
       "    .dataframe tbody tr th {\n",
       "        vertical-align: top;\n",
       "    }\n",
       "\n",
       "    .dataframe thead th {\n",
       "        text-align: right;\n",
       "    }\n",
       "</style>\n",
       "<table border=\"1\" class=\"dataframe\">\n",
       "  <thead>\n",
       "    <tr style=\"text-align: right;\">\n",
       "      <th></th>\n",
       "      <th>Job title</th>\n",
       "      <th>Location</th>\n",
       "      <th>Company Nmae</th>\n",
       "      <th>Experience</th>\n",
       "    </tr>\n",
       "  </thead>\n",
       "  <tbody>\n",
       "    <tr>\n",
       "      <th>0</th>\n",
       "      <td>AI Technologist Vacancy</td>\n",
       "      <td>Kolkata, Hyderabad/Secunderabad, Pune, Ahmedab...</td>\n",
       "      <td>Wipro</td>\n",
       "      <td>6-11 Yrs</td>\n",
       "    </tr>\n",
       "    <tr>\n",
       "      <th>1</th>\n",
       "      <td>Urgent Hiring For AI Data Scientist</td>\n",
       "      <td>New Delhi, Bangalore/Bengaluru, Mumbai (All Ar...</td>\n",
       "      <td>Ashkom Media India Private Limited</td>\n",
       "      <td>1-4 Yrs</td>\n",
       "    </tr>\n",
       "    <tr>\n",
       "      <th>2</th>\n",
       "      <td>Data Scientist</td>\n",
       "      <td>Mumbai, Bangalore/Bengaluru</td>\n",
       "      <td>UPL</td>\n",
       "      <td>2-7 Yrs</td>\n",
       "    </tr>\n",
       "    <tr>\n",
       "      <th>3</th>\n",
       "      <td>Data Scientist</td>\n",
       "      <td>Bangalore/Bengaluru, Delhi / NCR, Mumbai (All ...</td>\n",
       "      <td>Jacobs</td>\n",
       "      <td>3-5 Yrs</td>\n",
       "    </tr>\n",
       "    <tr>\n",
       "      <th>4</th>\n",
       "      <td>Job Opening with Wipro For Data Scientist posi...</td>\n",
       "      <td>Kolkata, Hyderabad/Secunderabad, Chennai, Bang...</td>\n",
       "      <td>Wipro</td>\n",
       "      <td>2-7 Yrs</td>\n",
       "    </tr>\n",
       "    <tr>\n",
       "      <th>5</th>\n",
       "      <td>Data Science Expert - Quality &amp; Test Engineering</td>\n",
       "      <td>Bangalore/Bengaluru</td>\n",
       "      <td>SAP</td>\n",
       "      <td>12-16 Yrs</td>\n",
       "    </tr>\n",
       "    <tr>\n",
       "      <th>6</th>\n",
       "      <td>Applied Data Scientist / ML Senior Engineer (P...</td>\n",
       "      <td>Bangalore/Bengaluru</td>\n",
       "      <td>SAP</td>\n",
       "      <td>5-10 Yrs</td>\n",
       "    </tr>\n",
       "    <tr>\n",
       "      <th>7</th>\n",
       "      <td>Team Lead/Consultant-Data Science</td>\n",
       "      <td>Bangalore/Bengaluru</td>\n",
       "      <td>Accenture</td>\n",
       "      <td>7-11 Yrs</td>\n",
       "    </tr>\n",
       "    <tr>\n",
       "      <th>8</th>\n",
       "      <td>Data Science Associate Manager</td>\n",
       "      <td>Bangalore/Bengaluru</td>\n",
       "      <td>Accenture</td>\n",
       "      <td>5-10 Yrs</td>\n",
       "    </tr>\n",
       "    <tr>\n",
       "      <th>9</th>\n",
       "      <td>Research Scientist</td>\n",
       "      <td>Bangalore/Bengaluru</td>\n",
       "      <td>IBM</td>\n",
       "      <td>3-7 Yrs</td>\n",
       "    </tr>\n",
       "  </tbody>\n",
       "</table>\n",
       "</div>"
      ],
      "text/plain": [
       "                                           Job title  \\\n",
       "0                            AI Technologist Vacancy   \n",
       "1                Urgent Hiring For AI Data Scientist   \n",
       "2                                     Data Scientist   \n",
       "3                                     Data Scientist   \n",
       "4  Job Opening with Wipro For Data Scientist posi...   \n",
       "5   Data Science Expert - Quality & Test Engineering   \n",
       "6  Applied Data Scientist / ML Senior Engineer (P...   \n",
       "7                  Team Lead/Consultant-Data Science   \n",
       "8                     Data Science Associate Manager   \n",
       "9                                 Research Scientist   \n",
       "\n",
       "                                            Location  \\\n",
       "0  Kolkata, Hyderabad/Secunderabad, Pune, Ahmedab...   \n",
       "1  New Delhi, Bangalore/Bengaluru, Mumbai (All Ar...   \n",
       "2                        Mumbai, Bangalore/Bengaluru   \n",
       "3  Bangalore/Bengaluru, Delhi / NCR, Mumbai (All ...   \n",
       "4  Kolkata, Hyderabad/Secunderabad, Chennai, Bang...   \n",
       "5                                Bangalore/Bengaluru   \n",
       "6                                Bangalore/Bengaluru   \n",
       "7                                Bangalore/Bengaluru   \n",
       "8                                Bangalore/Bengaluru   \n",
       "9                                Bangalore/Bengaluru   \n",
       "\n",
       "                         Company Nmae Experience  \n",
       "0                               Wipro   6-11 Yrs  \n",
       "1  Ashkom Media India Private Limited    1-4 Yrs  \n",
       "2                                 UPL    2-7 Yrs  \n",
       "3                              Jacobs    3-5 Yrs  \n",
       "4                               Wipro    2-7 Yrs  \n",
       "5                                 SAP  12-16 Yrs  \n",
       "6                                 SAP   5-10 Yrs  \n",
       "7                           Accenture   7-11 Yrs  \n",
       "8                           Accenture   5-10 Yrs  \n",
       "9                                 IBM    3-7 Yrs  "
      ]
     },
     "execution_count": 193,
     "metadata": {},
     "output_type": "execute_result"
    }
   ],
   "source": [
    "import pandas as pd\n",
    "df=pd.DataFrame({'Job title':job_title,'Location':location,'Company Nmae':company,'Experience':experience})\n",
    "df"
   ]
  },
  {
   "cell_type": "markdown",
   "id": "e048e564",
   "metadata": {},
   "source": [
    "# Q3: In this question you have to scrape data using the filters available on the webpage as shown below:\n",
    "You have to use the location and salary filter.\n",
    "You have to scrape data for “Data Scientist” designation for first 10 job results.\n",
    "You have to scrape the job-title, job-location, company name, experience required.\n",
    "The location filter to be used is “Delhi/NCR”. The salary filter to be used is “3-6” lakhs\n",
    "The task will be done as shown in the below steps:\n",
    "1. first get the webpage https://www.naukri.com/\n",
    "2. Enter “Data Scientist” in “Skill, Designations, and Companies” field.\n",
    "3. Then click the search button.\n",
    "4. Then apply the location filter and salary filter by checking the respective boxes\n",
    "5. Then scrape the data for the first 10 jobs results you get.\n",
    "6. Finally create a dataframe of the scraped data.\n",
    "Note: All of the above steps have to be done in code. No step is to be done manually.\n",
    "\n"
   ]
  },
  {
   "cell_type": "code",
   "execution_count": null,
   "id": "91d8134c",
   "metadata": {},
   "outputs": [],
   "source": [
    "driver=webdriver.Chrome(\"chromedriver.exe\") #Run from the current directory\n",
    "time.sleep(2)\n",
    "driver.get(\"https://www.naukri.com/\")"
   ]
  },
  {
   "cell_type": "code",
   "execution_count": 25,
   "id": "98f506a1",
   "metadata": {},
   "outputs": [],
   "source": [
    "search_field_destination=driver.find_element_by_class_name('suggestor-input')#Job search bar\n",
    "search_field_destination.send_keys('Data Scientist')"
   ]
  },
  {
   "cell_type": "code",
   "execution_count": 26,
   "id": "11514deb",
   "metadata": {},
   "outputs": [],
   "source": [
    "search_button=driver.find_element_by_xpath('/html/body/div/div[2]/div[3]/div/div/div[6]')# Absolute path\n",
    "search_button.click()\n"
   ]
  },
  {
   "cell_type": "code",
   "execution_count": 28,
   "id": "94501f13",
   "metadata": {},
   "outputs": [],
   "source": [
    "tick_checkbox=driver.find_element_by_xpath('/html/body/div[1]/div[3]/div[2]/section[1]/div[2]/div[5]/div[2]/div[3]/label/i')# Absolute path\n",
    "tick_checkbox.click()/ To select the location filter\n",
    "\n"
   ]
  },
  {
   "cell_type": "code",
   "execution_count": 29,
   "id": "f39be3f4",
   "metadata": {},
   "outputs": [],
   "source": [
    "tick_checkbox1=driver.find_element_by_xpath('/html/body/div[1]/div[3]/div[2]/section[1]/div[2]/div[6]/div[2]/div[2]/label/i')# Absolute path\n",
    "tick_checkbox1.click()/ To select the salary filter\n"
   ]
  },
  {
   "cell_type": "code",
   "execution_count": 30,
   "id": "1933eb7f",
   "metadata": {},
   "outputs": [],
   "source": [
    "# Creating the emty list initially\n",
    "job_title_list=[]\n",
    "company_name_list=[]\n",
    "location_list=[]\n",
    "experience_list=[]"
   ]
  },
  {
   "cell_type": "code",
   "execution_count": 31,
   "id": "1db16ae9",
   "metadata": {},
   "outputs": [
    {
     "data": {
      "text/plain": [
       "[<selenium.webdriver.remote.webelement.WebElement (session=\"041b457f736d910eb37a854b01db81d7\", element=\"f802db73-83e8-4502-835f-77bc58198925\")>,\n",
       " <selenium.webdriver.remote.webelement.WebElement (session=\"041b457f736d910eb37a854b01db81d7\", element=\"3f919f4f-78a8-44d3-9fac-af9f05d30df0\")>,\n",
       " <selenium.webdriver.remote.webelement.WebElement (session=\"041b457f736d910eb37a854b01db81d7\", element=\"8eb68f2f-68df-4dcf-9193-ae11a4adf4b0\")>,\n",
       " <selenium.webdriver.remote.webelement.WebElement (session=\"041b457f736d910eb37a854b01db81d7\", element=\"a8e6601e-88a0-4ee6-9cc3-037cec6fb495\")>,\n",
       " <selenium.webdriver.remote.webelement.WebElement (session=\"041b457f736d910eb37a854b01db81d7\", element=\"3a48e186-7a6a-4f3a-9c07-af8f9a596d7a\")>,\n",
       " <selenium.webdriver.remote.webelement.WebElement (session=\"041b457f736d910eb37a854b01db81d7\", element=\"368dff8c-4038-4795-a362-448fd237d9c1\")>,\n",
       " <selenium.webdriver.remote.webelement.WebElement (session=\"041b457f736d910eb37a854b01db81d7\", element=\"6b5da661-079a-44e2-b1c4-7ad0040fe5d5\")>,\n",
       " <selenium.webdriver.remote.webelement.WebElement (session=\"041b457f736d910eb37a854b01db81d7\", element=\"88be28cf-dda6-49a2-b736-cdea580bc83c\")>,\n",
       " <selenium.webdriver.remote.webelement.WebElement (session=\"041b457f736d910eb37a854b01db81d7\", element=\"195a94be-6a81-4f15-a143-140f977eeaf1\")>,\n",
       " <selenium.webdriver.remote.webelement.WebElement (session=\"041b457f736d910eb37a854b01db81d7\", element=\"85599490-07ac-4389-bf27-d025e4a6285e\")>]"
      ]
     },
     "execution_count": 31,
     "metadata": {},
     "output_type": "execute_result"
    }
   ],
   "source": [
    "#To extract the all the job titles having\n",
    "title_tag=driver.find_elements_by_xpath('//a[@class=\"title fw500 ellipsis\"]') #Relaticve path\n",
    "title_tag[0:10]# To give the range to extract the 10 results"
   ]
  },
  {
   "cell_type": "code",
   "execution_count": 32,
   "id": "8fcfed02",
   "metadata": {},
   "outputs": [
    {
     "data": {
      "text/plain": [
       "['Job Opening with Wipro For Data Scientist position',\n",
       " 'Data Scientist -Machine Learning with Python',\n",
       " 'Data Scientist',\n",
       " 'Data Scientist - Predictive Analytics',\n",
       " 'Data Scientist - Machine learning AI',\n",
       " 'Data Scientist - MIND Infotech',\n",
       " 'Data Scientist - MIND Infotech',\n",
       " 'Data Scientist - Internet Jobs - II',\n",
       " 'Machine Learning Engineer | Data Engineer | Data Scientist',\n",
       " 'Data Scientists']"
      ]
     },
     "execution_count": 32,
     "metadata": {},
     "output_type": "execute_result"
    }
   ],
   "source": [
    "#Loop to iterate the tag extract from the abovr code\n",
    "for i in title_tag:#iterating the web element over the title tag\n",
    "    title=i.text # Extracting text from web element\n",
    "    job_title_list.append(title) #appending to the extracted test list to job title list\n",
    "job_title=job_title_list[0:10]   #print the top 10 data\n",
    "job_title"
   ]
  },
  {
   "cell_type": "code",
   "execution_count": 34,
   "id": "22ca9cf0",
   "metadata": {},
   "outputs": [
    {
     "data": {
      "text/plain": [
       "[<selenium.webdriver.remote.webelement.WebElement (session=\"041b457f736d910eb37a854b01db81d7\", element=\"478ebdbd-149e-4e20-8222-8063f3510662\")>,\n",
       " <selenium.webdriver.remote.webelement.WebElement (session=\"041b457f736d910eb37a854b01db81d7\", element=\"d3c095a2-a9c2-499f-861c-296df061cb7e\")>,\n",
       " <selenium.webdriver.remote.webelement.WebElement (session=\"041b457f736d910eb37a854b01db81d7\", element=\"6ef2710b-234e-48b9-aa47-88418fb26eb4\")>,\n",
       " <selenium.webdriver.remote.webelement.WebElement (session=\"041b457f736d910eb37a854b01db81d7\", element=\"3f0906de-c462-40c1-876b-d76be9387f62\")>,\n",
       " <selenium.webdriver.remote.webelement.WebElement (session=\"041b457f736d910eb37a854b01db81d7\", element=\"4e9cc808-3fe4-44a3-8e17-93ca85bf9eff\")>,\n",
       " <selenium.webdriver.remote.webelement.WebElement (session=\"041b457f736d910eb37a854b01db81d7\", element=\"6409b7e7-b908-43e3-b413-8310cc5b2a5c\")>,\n",
       " <selenium.webdriver.remote.webelement.WebElement (session=\"041b457f736d910eb37a854b01db81d7\", element=\"9b3c1e84-1915-470c-a11d-5fdbefb9e1bf\")>,\n",
       " <selenium.webdriver.remote.webelement.WebElement (session=\"041b457f736d910eb37a854b01db81d7\", element=\"a4b96b5e-a495-4b29-9ddf-dee36f49f325\")>,\n",
       " <selenium.webdriver.remote.webelement.WebElement (session=\"041b457f736d910eb37a854b01db81d7\", element=\"7b38b90a-25e6-46e0-b19b-06e9db8a7f94\")>,\n",
       " <selenium.webdriver.remote.webelement.WebElement (session=\"041b457f736d910eb37a854b01db81d7\", element=\"ccc85485-2f01-4c39-be09-2b3295e7cc30\")>]"
      ]
     },
     "execution_count": 34,
     "metadata": {},
     "output_type": "execute_result"
    }
   ],
   "source": [
    "#To extract the location\n",
    "loc=driver.find_elements_by_xpath('//li[@class=\"fleft grey-text br2 placeHolderLi location\"]') #Relaticve path\n",
    "loc[0:10]# To give the range to extract the 10 results"
   ]
  },
  {
   "cell_type": "code",
   "execution_count": 35,
   "id": "18f05cff",
   "metadata": {},
   "outputs": [
    {
     "data": {
      "text/plain": [
       "['Kolkata, Hyderabad/Secunderabad, Chennai, Bangalore/Bengaluru, Delhi / NCR, Mumbai (All Areas)',\n",
       " 'Noida, New Delhi, Gurgaon/Gurugram, Delhi / NCR\\n(WFH during Covid)',\n",
       " 'Pune, Gurgaon/Gurugram, Bangalore/Bengaluru',\n",
       " 'Noida, Mumbai, Chandigarh, Hyderabad/Secunderabad, Pune, Chennai, Gurgaon/Gurugram, Coimbatore, Bangalore/Bengaluru',\n",
       " 'Bangalore/Bengaluru, Delhi / NCR, Mumbai (All Areas)\\n(WFH during Covid)',\n",
       " 'Noida',\n",
       " 'Noida',\n",
       " 'Bangalore/Bengaluru, Delhi / NCR, Mumbai (All Areas)',\n",
       " 'Chennai, Bangalore/Bengaluru, Delhi / NCR(Sector-8 Noida)\\n(WFH during Covid)',\n",
       " 'Gurgaon/Gurugram']"
      ]
     },
     "execution_count": 35,
     "metadata": {},
     "output_type": "execute_result"
    }
   ],
   "source": [
    "for i in loc:#iterating the web element over the title tag\n",
    "    title=i.text # Extracting text from web element\n",
    "    location_list.append(title) #appending to the extracted test list to job title list\n",
    "location=location_list[0:10]   #print the top 10 data\n",
    "location"
   ]
  },
  {
   "cell_type": "code",
   "execution_count": 36,
   "id": "7ecacf49",
   "metadata": {},
   "outputs": [
    {
     "data": {
      "text/plain": [
       "['Wipro',\n",
       " 'Genpact',\n",
       " 'SS Supply Chain Solutions Pvt. Ltd. (3SC)',\n",
       " 'Confidential',\n",
       " 'Teq Analytics',\n",
       " 'MOTHERSONSUMI INFOTECH & DESIGNS LIMITED',\n",
       " 'MOTHERSONSUMI INFOTECH & DESIGNS LIMITED',\n",
       " 'Jobs Territory',\n",
       " 'Tidyquant (OPC) Private Limited',\n",
       " 'Nibha Infotech Private Limited']"
      ]
     },
     "execution_count": 36,
     "metadata": {},
     "output_type": "execute_result"
    }
   ],
   "source": [
    "#To extract the company name\n",
    "company_name=driver.find_elements_by_xpath('//a[@class=\"subTitle ellipsis fleft\"]') #Relaticve path\n",
    "company_name[0:10]# To give the range to extract the 9 results\n",
    "#Loop to iterate the tag extract from the abovr code\n",
    "for i in company_name:#iterating the web element over the title tag\n",
    "    title=i.text # Extracting text from web element\n",
    "    company_name_list.append(title.replace(\"Reviews\",'')) #appending to the extracted test list to job title list\n",
    "company=company_name_list[0:10]   #print the top 10 data\n",
    "company"
   ]
  },
  {
   "cell_type": "code",
   "execution_count": 37,
   "id": "e2fc6506",
   "metadata": {},
   "outputs": [
    {
     "data": {
      "text/plain": [
       "['2-7 Yrs',\n",
       " '1-4 Yrs',\n",
       " '2-5 Yrs',\n",
       " '1-6 Yrs',\n",
       " '3-8 Yrs',\n",
       " '4-8 Yrs',\n",
       " '4-8 Yrs',\n",
       " '3-6 Yrs',\n",
       " '1-3 Yrs',\n",
       " '5-8 Yrs']"
      ]
     },
     "execution_count": 37,
     "metadata": {},
     "output_type": "execute_result"
    }
   ],
   "source": [
    "#To extract the experience\n",
    "exp=driver.find_elements_by_xpath('//li[@class=\"fleft grey-text br2 placeHolderLi experience\"]') #Relaticve path\n",
    "exp[0:10]# To give the range to extract the 10 results\n",
    "for i in exp:#iterating the web element over the title tag\n",
    "    title=i.text # Extracting text from web element\n",
    "    experience_list.append(title) #appending to the extracted test list to job title list\n",
    "experience=experience_list[0:10]   #print the top 10 data\n",
    "\n",
    "experience"
   ]
  },
  {
   "cell_type": "code",
   "execution_count": 38,
   "id": "a776d4ff",
   "metadata": {},
   "outputs": [
    {
     "data": {
      "text/html": [
       "<div>\n",
       "<style scoped>\n",
       "    .dataframe tbody tr th:only-of-type {\n",
       "        vertical-align: middle;\n",
       "    }\n",
       "\n",
       "    .dataframe tbody tr th {\n",
       "        vertical-align: top;\n",
       "    }\n",
       "\n",
       "    .dataframe thead th {\n",
       "        text-align: right;\n",
       "    }\n",
       "</style>\n",
       "<table border=\"1\" class=\"dataframe\">\n",
       "  <thead>\n",
       "    <tr style=\"text-align: right;\">\n",
       "      <th></th>\n",
       "      <th>Job title</th>\n",
       "      <th>Location</th>\n",
       "      <th>Company Nmae</th>\n",
       "      <th>Experience</th>\n",
       "    </tr>\n",
       "  </thead>\n",
       "  <tbody>\n",
       "    <tr>\n",
       "      <th>0</th>\n",
       "      <td>Job Opening with Wipro For Data Scientist posi...</td>\n",
       "      <td>Kolkata, Hyderabad/Secunderabad, Chennai, Bang...</td>\n",
       "      <td>Wipro</td>\n",
       "      <td>2-7 Yrs</td>\n",
       "    </tr>\n",
       "    <tr>\n",
       "      <th>1</th>\n",
       "      <td>Data Scientist -Machine Learning with Python</td>\n",
       "      <td>Noida, New Delhi, Gurgaon/Gurugram, Delhi / NC...</td>\n",
       "      <td>Genpact</td>\n",
       "      <td>1-4 Yrs</td>\n",
       "    </tr>\n",
       "    <tr>\n",
       "      <th>2</th>\n",
       "      <td>Data Scientist</td>\n",
       "      <td>Pune, Gurgaon/Gurugram, Bangalore/Bengaluru</td>\n",
       "      <td>SS Supply Chain Solutions Pvt. Ltd. (3SC)</td>\n",
       "      <td>2-5 Yrs</td>\n",
       "    </tr>\n",
       "    <tr>\n",
       "      <th>3</th>\n",
       "      <td>Data Scientist - Predictive Analytics</td>\n",
       "      <td>Noida, Mumbai, Chandigarh, Hyderabad/Secundera...</td>\n",
       "      <td>Confidential</td>\n",
       "      <td>1-6 Yrs</td>\n",
       "    </tr>\n",
       "    <tr>\n",
       "      <th>4</th>\n",
       "      <td>Data Scientist - Machine learning AI</td>\n",
       "      <td>Bangalore/Bengaluru, Delhi / NCR, Mumbai (All ...</td>\n",
       "      <td>Teq Analytics</td>\n",
       "      <td>3-8 Yrs</td>\n",
       "    </tr>\n",
       "    <tr>\n",
       "      <th>5</th>\n",
       "      <td>Data Scientist - MIND Infotech</td>\n",
       "      <td>Noida</td>\n",
       "      <td>MOTHERSONSUMI INFOTECH &amp; DESIGNS LIMITED</td>\n",
       "      <td>4-8 Yrs</td>\n",
       "    </tr>\n",
       "    <tr>\n",
       "      <th>6</th>\n",
       "      <td>Data Scientist - MIND Infotech</td>\n",
       "      <td>Noida</td>\n",
       "      <td>MOTHERSONSUMI INFOTECH &amp; DESIGNS LIMITED</td>\n",
       "      <td>4-8 Yrs</td>\n",
       "    </tr>\n",
       "    <tr>\n",
       "      <th>7</th>\n",
       "      <td>Data Scientist - Internet Jobs - II</td>\n",
       "      <td>Bangalore/Bengaluru, Delhi / NCR, Mumbai (All ...</td>\n",
       "      <td>Jobs Territory</td>\n",
       "      <td>3-6 Yrs</td>\n",
       "    </tr>\n",
       "    <tr>\n",
       "      <th>8</th>\n",
       "      <td>Machine Learning Engineer | Data Engineer | Da...</td>\n",
       "      <td>Chennai, Bangalore/Bengaluru, Delhi / NCR(Sect...</td>\n",
       "      <td>Tidyquant (OPC) Private Limited</td>\n",
       "      <td>1-3 Yrs</td>\n",
       "    </tr>\n",
       "    <tr>\n",
       "      <th>9</th>\n",
       "      <td>Data Scientists</td>\n",
       "      <td>Gurgaon/Gurugram</td>\n",
       "      <td>Nibha Infotech Private Limited</td>\n",
       "      <td>5-8 Yrs</td>\n",
       "    </tr>\n",
       "  </tbody>\n",
       "</table>\n",
       "</div>"
      ],
      "text/plain": [
       "                                           Job title  \\\n",
       "0  Job Opening with Wipro For Data Scientist posi...   \n",
       "1       Data Scientist -Machine Learning with Python   \n",
       "2                                     Data Scientist   \n",
       "3              Data Scientist - Predictive Analytics   \n",
       "4               Data Scientist - Machine learning AI   \n",
       "5                     Data Scientist - MIND Infotech   \n",
       "6                     Data Scientist - MIND Infotech   \n",
       "7                Data Scientist - Internet Jobs - II   \n",
       "8  Machine Learning Engineer | Data Engineer | Da...   \n",
       "9                                    Data Scientists   \n",
       "\n",
       "                                            Location  \\\n",
       "0  Kolkata, Hyderabad/Secunderabad, Chennai, Bang...   \n",
       "1  Noida, New Delhi, Gurgaon/Gurugram, Delhi / NC...   \n",
       "2        Pune, Gurgaon/Gurugram, Bangalore/Bengaluru   \n",
       "3  Noida, Mumbai, Chandigarh, Hyderabad/Secundera...   \n",
       "4  Bangalore/Bengaluru, Delhi / NCR, Mumbai (All ...   \n",
       "5                                              Noida   \n",
       "6                                              Noida   \n",
       "7  Bangalore/Bengaluru, Delhi / NCR, Mumbai (All ...   \n",
       "8  Chennai, Bangalore/Bengaluru, Delhi / NCR(Sect...   \n",
       "9                                   Gurgaon/Gurugram   \n",
       "\n",
       "                                Company Nmae Experience  \n",
       "0                                      Wipro    2-7 Yrs  \n",
       "1                                    Genpact    1-4 Yrs  \n",
       "2  SS Supply Chain Solutions Pvt. Ltd. (3SC)    2-5 Yrs  \n",
       "3                               Confidential    1-6 Yrs  \n",
       "4                              Teq Analytics    3-8 Yrs  \n",
       "5   MOTHERSONSUMI INFOTECH & DESIGNS LIMITED    4-8 Yrs  \n",
       "6   MOTHERSONSUMI INFOTECH & DESIGNS LIMITED    4-8 Yrs  \n",
       "7                             Jobs Territory    3-6 Yrs  \n",
       "8            Tidyquant (OPC) Private Limited    1-3 Yrs  \n",
       "9             Nibha Infotech Private Limited    5-8 Yrs  "
      ]
     },
     "execution_count": 38,
     "metadata": {},
     "output_type": "execute_result"
    }
   ],
   "source": [
    "import pandas as pd\n",
    "df=pd.DataFrame({'Job title':job_title,'Location':location,'Company Nmae':company,'Experience':experience})\n",
    "df"
   ]
  },
  {
   "cell_type": "code",
   "execution_count": 39,
   "id": "72620652",
   "metadata": {},
   "outputs": [
    {
     "data": {
      "text/plain": [
       "<bound method WebDriver.close of <selenium.webdriver.chrome.webdriver.WebDriver (session=\"041b457f736d910eb37a854b01db81d7\")>>"
      ]
     },
     "execution_count": 39,
     "metadata": {},
     "output_type": "execute_result"
    }
   ],
   "source": [
    "driver.close"
   ]
  },
  {
   "cell_type": "markdown",
   "id": "bad04600",
   "metadata": {},
   "source": [
    "# Q4: Scrape data of first 100 sunglasses listings on flipkart.com. You have to scrape four attributes:\n",
    "1. Brand\n",
    "2. Product Description\n",
    "3. Price\n",
    "The attributes which you have to scrape is ticked marked in the below image.\n",
    "\n",
    "To scrape the data you have to go through following steps:\n",
    "1. Go to Flipkart webpage by url : https://www.flipkart.com/\n",
    "2. Enter “sunglasses” in the search field where “search for products, brands and more” is written and\n",
    "click the search icon\n",
    "3. After that you will reach to the page having a lot of sunglasses. From this page you can scrap the\n",
    "required data as usual."
   ]
  },
  {
   "cell_type": "code",
   "execution_count": 40,
   "id": "da610a6f",
   "metadata": {},
   "outputs": [],
   "source": [
    "driver=webdriver.Chrome(\"chromedriver.exe\") #Run from the current directory\n",
    "time.sleep(2)"
   ]
  },
  {
   "cell_type": "code",
   "execution_count": 42,
   "id": "6477e41e",
   "metadata": {},
   "outputs": [],
   "source": [
    "#To access the website by by code\n",
    "driver.get(\"https://www.flipkart.com/\")"
   ]
  },
  {
   "cell_type": "code",
   "execution_count": 50,
   "id": "d5e91d49",
   "metadata": {},
   "outputs": [],
   "source": [
    "search_field_destination=driver.find_element_by_class_name('_3704LK')#Job search bar\n",
    "search_field_destination.send_keys('sunglasses')\n"
   ]
  },
  {
   "cell_type": "code",
   "execution_count": 51,
   "id": "0b2c0fad",
   "metadata": {},
   "outputs": [],
   "source": [
    "search_button=driver.find_element_by_xpath('/html/body/div/div/div[1]/div[1]/div[2]/div[2]/form/div/button')# Absolute path\n",
    "search_button.click()"
   ]
  },
  {
   "cell_type": "code",
   "execution_count": 85,
   "id": "c34ee490",
   "metadata": {},
   "outputs": [],
   "source": [
    "\n",
    "#To extract the brand\n",
    "brand=[]\n",
    "for i in range(0,3):\n",
    "    brand_value=driver.find_elements_by_xpath('//div[@class=\"_2WkVRV\"]')\n",
    "    for i in brand_value:\n",
    "        add_brand=i.text\n",
    "        brand.append(add_brand)\n",
    "    next_button=driver.find_element_by_xpath('/html/body/div/div/div[3]/div[1]/div[2]/div[12]/div/div/nav/a[12]')\n",
    "    next_button.click()\n",
    "    time.sleep(5)\n",
    "\n",
    "brand=brand[0:100] \n"
   ]
  },
  {
   "cell_type": "code",
   "execution_count": 86,
   "id": "e4e97048",
   "metadata": {},
   "outputs": [],
   "source": [
    "#To extract the Product Description\n",
    "description=[]\n",
    "for i in range(0,3):\n",
    "    brand_value=driver.find_elements_by_xpath('//a[@class=\"IRpwTa\"]')\n",
    "    for i in brand_value:\n",
    "        add_desc=i.text\n",
    "        description.append(add_desc)\n",
    "    next_button=driver.find_element_by_xpath('/html/body/div/div/div[3]/div[1]/div[2]/div[12]/div/div/nav/a[12]')\n",
    "    next_button.click()\n",
    "    time.sleep(5)\n",
    "   \n",
    "description=description[0:100]"
   ]
  },
  {
   "cell_type": "code",
   "execution_count": 93,
   "id": "f1f846db",
   "metadata": {},
   "outputs": [],
   "source": [
    "#To extract the Price\n",
    "price=[]\n",
    "for i in range(0,3):\n",
    "    brand_value=driver.find_elements_by_xpath('//div[@class=\"_30jeq3\"]')\n",
    "    for i in brand_value:\n",
    "        add_desc=i.text\n",
    "        price.append(add_desc)\n",
    "    next_button=driver.find_element_by_xpath('/html/body/div/div/div[3]/div[1]/div[2]/div[12]/div/div/nav/a[12]')\n",
    "    next_button.click()\n",
    "    time.sleep(5)\n",
    "price=price[0:100]"
   ]
  },
  {
   "cell_type": "code",
   "execution_count": 94,
   "id": "05436fdf",
   "metadata": {},
   "outputs": [
    {
     "data": {
      "text/html": [
       "<div>\n",
       "<style scoped>\n",
       "    .dataframe tbody tr th:only-of-type {\n",
       "        vertical-align: middle;\n",
       "    }\n",
       "\n",
       "    .dataframe tbody tr th {\n",
       "        vertical-align: top;\n",
       "    }\n",
       "\n",
       "    .dataframe thead th {\n",
       "        text-align: right;\n",
       "    }\n",
       "</style>\n",
       "<table border=\"1\" class=\"dataframe\">\n",
       "  <thead>\n",
       "    <tr style=\"text-align: right;\">\n",
       "      <th></th>\n",
       "      <th>Brand</th>\n",
       "      <th>Product Description</th>\n",
       "      <th>Price</th>\n",
       "    </tr>\n",
       "  </thead>\n",
       "  <tbody>\n",
       "    <tr>\n",
       "      <th>0</th>\n",
       "      <td>ROYAL SON</td>\n",
       "      <td>Gradient Aviator Sunglasses (58)</td>\n",
       "      <td>₹199</td>\n",
       "    </tr>\n",
       "    <tr>\n",
       "      <th>1</th>\n",
       "      <td>AISLIN</td>\n",
       "      <td>Night Vision, Polarized, UV Protection Aviator...</td>\n",
       "      <td>₹111</td>\n",
       "    </tr>\n",
       "    <tr>\n",
       "      <th>2</th>\n",
       "      <td>HAMIW COLLECTION</td>\n",
       "      <td>by Lenskart UV Protection Clubmaster Sunglasse...</td>\n",
       "      <td>₹217</td>\n",
       "    </tr>\n",
       "    <tr>\n",
       "      <th>3</th>\n",
       "      <td>agera</td>\n",
       "      <td>UV Protection Oval, Aviator Sunglasses (64)</td>\n",
       "      <td>₹129</td>\n",
       "    </tr>\n",
       "    <tr>\n",
       "      <th>4</th>\n",
       "      <td>VINCENT CHASE</td>\n",
       "      <td>Polarized Clubmaster Sunglasses (51)</td>\n",
       "      <td>₹279</td>\n",
       "    </tr>\n",
       "    <tr>\n",
       "      <th>...</th>\n",
       "      <td>...</td>\n",
       "      <td>...</td>\n",
       "      <td>...</td>\n",
       "    </tr>\n",
       "    <tr>\n",
       "      <th>95</th>\n",
       "      <td>NuVew</td>\n",
       "      <td>UV Protection Aviator Sunglasses (57)</td>\n",
       "      <td>₹185</td>\n",
       "    </tr>\n",
       "    <tr>\n",
       "      <th>96</th>\n",
       "      <td>I Flash</td>\n",
       "      <td>Wayfarer Sunglasses (Free Size)</td>\n",
       "      <td>₹10,769</td>\n",
       "    </tr>\n",
       "    <tr>\n",
       "      <th>97</th>\n",
       "      <td>Rich Club</td>\n",
       "      <td>UV Protection Wayfarer Sunglasses (50)</td>\n",
       "      <td>₹284</td>\n",
       "    </tr>\n",
       "    <tr>\n",
       "      <th>98</th>\n",
       "      <td>AISLIN</td>\n",
       "      <td>UV Protection Rectangular Sunglasses (Free Size)</td>\n",
       "      <td>₹2,359</td>\n",
       "    </tr>\n",
       "    <tr>\n",
       "      <th>99</th>\n",
       "      <td>AISLIN</td>\n",
       "      <td>UV Protection, Night Vision, Riding Glasses, P...</td>\n",
       "      <td>₹501</td>\n",
       "    </tr>\n",
       "  </tbody>\n",
       "</table>\n",
       "<p>100 rows × 3 columns</p>\n",
       "</div>"
      ],
      "text/plain": [
       "               Brand                                Product Description  \\\n",
       "0          ROYAL SON                   Gradient Aviator Sunglasses (58)   \n",
       "1             AISLIN  Night Vision, Polarized, UV Protection Aviator...   \n",
       "2   HAMIW COLLECTION  by Lenskart UV Protection Clubmaster Sunglasse...   \n",
       "3              agera        UV Protection Oval, Aviator Sunglasses (64)   \n",
       "4      VINCENT CHASE               Polarized Clubmaster Sunglasses (51)   \n",
       "..               ...                                                ...   \n",
       "95             NuVew              UV Protection Aviator Sunglasses (57)   \n",
       "96           I Flash                    Wayfarer Sunglasses (Free Size)   \n",
       "97         Rich Club             UV Protection Wayfarer Sunglasses (50)   \n",
       "98            AISLIN   UV Protection Rectangular Sunglasses (Free Size)   \n",
       "99            AISLIN  UV Protection, Night Vision, Riding Glasses, P...   \n",
       "\n",
       "      Price  \n",
       "0      ₹199  \n",
       "1      ₹111  \n",
       "2      ₹217  \n",
       "3      ₹129  \n",
       "4      ₹279  \n",
       "..      ...  \n",
       "95     ₹185  \n",
       "96  ₹10,769  \n",
       "97     ₹284  \n",
       "98   ₹2,359  \n",
       "99     ₹501  \n",
       "\n",
       "[100 rows x 3 columns]"
      ]
     },
     "execution_count": 94,
     "metadata": {},
     "output_type": "execute_result"
    }
   ],
   "source": [
    "df=pd.DataFrame({\"Brand\":brand,\"Product Description\":description,\"Price\":price})\n",
    "df"
   ]
  },
  {
   "cell_type": "code",
   "execution_count": 96,
   "id": "635e3b5f",
   "metadata": {},
   "outputs": [],
   "source": [
    "driver.close()"
   ]
  },
  {
   "cell_type": "markdown",
   "id": "f5b728ba",
   "metadata": {},
   "source": [
    "# Q5: Scrape 100 reviews data from flipkart.com for iphone11 phone.\n",
    "This task will be done in following steps:\n",
    "1. First get the webpage https://www.flipkart.com/\n",
    "2. Enter “iphone 11” in “Search” field .\n",
    "3. Then click the search button.\n",
    "\n",
    "As shown in the above page you have to scrape the tick marked attributes.These are:\n",
    "1. Rating\n",
    "2. Review summary\n",
    "3. Full review\n",
    "4. You have to scrape this data for first 100 reviews.\n"
   ]
  },
  {
   "cell_type": "code",
   "execution_count": 22,
   "id": "7251d990",
   "metadata": {},
   "outputs": [],
   "source": [
    "driver=webdriver.Chrome(\"chromedriver.exe\") #Run from the current directory\n",
    "time.sleep(2)"
   ]
  },
  {
   "cell_type": "code",
   "execution_count": 24,
   "id": "61793d2f",
   "metadata": {},
   "outputs": [],
   "source": [
    "#To access the website by by code\n",
    "driver.get(\"https://www.flipkart.com/\")"
   ]
  },
  {
   "cell_type": "code",
   "execution_count": 25,
   "id": "f860359c",
   "metadata": {},
   "outputs": [],
   "source": [
    "#To enter the item name in the search bar\n",
    "search_field_destination=driver.find_element_by_class_name('_3704LK')#Job search bar\n",
    "search_field_destination.send_keys('iphone 11')\n"
   ]
  },
  {
   "cell_type": "code",
   "execution_count": 26,
   "id": "144d330b",
   "metadata": {},
   "outputs": [],
   "source": [
    "#Click on search option\n",
    "search_button=driver.find_element_by_xpath('/html/body/div/div/div[1]/div[1]/div[2]/div[2]/form/div/button')# Absolute path\n",
    "search_button.click()"
   ]
  },
  {
   "cell_type": "code",
   "execution_count": 27,
   "id": "1f520c22",
   "metadata": {},
   "outputs": [],
   "source": [
    "#Click on the model\n",
    "search_button1=driver.find_element_by_xpath('/html/body/div[1]/div/div[3]/div[1]/div[2]/div[2]/div/div/div/a/div[1]/div[1]/div/div/img')# Absolute path\n",
    "search_button1.click()"
   ]
  },
  {
   "cell_type": "code",
   "execution_count": 29,
   "id": "d8681e02",
   "metadata": {},
   "outputs": [
    {
     "ename": "NoSuchElementException",
     "evalue": "Message: no such element: Unable to locate element: {\"method\":\"xpath\",\"selector\":\"/html/body/div[1]/div/div[3]/div[1]/div[2]/div[9]/div[6]/div/a/div/span\"}\n  (Session info: chrome=102.0.5005.63)\nStacktrace:\nBacktrace:\n\tOrdinal0 [0x00C1B8F3+2406643]\n\tOrdinal0 [0x00BAAF31+1945393]\n\tOrdinal0 [0x00A9C748+837448]\n\tOrdinal0 [0x00AC92E0+1020640]\n\tOrdinal0 [0x00AC957B+1021307]\n\tOrdinal0 [0x00AF6372+1205106]\n\tOrdinal0 [0x00AE42C4+1131204]\n\tOrdinal0 [0x00AF4682+1197698]\n\tOrdinal0 [0x00AE4096+1130646]\n\tOrdinal0 [0x00ABE636+976438]\n\tOrdinal0 [0x00ABF546+980294]\n\tGetHandleVerifier [0x00E89612+2498066]\n\tGetHandleVerifier [0x00E7C920+2445600]\n\tGetHandleVerifier [0x00CB4F2A+579370]\n\tGetHandleVerifier [0x00CB3D36+574774]\n\tOrdinal0 [0x00BB1C0B+1973259]\n\tOrdinal0 [0x00BB6688+1992328]\n\tOrdinal0 [0x00BB6775+1992565]\n\tOrdinal0 [0x00BBF8D1+2029777]\n\tBaseThreadInitThunk [0x766F6739+25]\n\tRtlGetFullPathName_UEx [0x77268FEF+1215]\n\tRtlGetFullPathName_UEx [0x77268FBD+1165]\n",
     "output_type": "error",
     "traceback": [
      "\u001b[1;31m---------------------------------------------------------------------------\u001b[0m",
      "\u001b[1;31mNoSuchElementException\u001b[0m                    Traceback (most recent call last)",
      "\u001b[1;32m~\\AppData\\Local\\Temp/ipykernel_11256/86038001.py\u001b[0m in \u001b[0;36m<module>\u001b[1;34m\u001b[0m\n\u001b[0;32m      1\u001b[0m \u001b[1;31m#Click on all reviews\u001b[0m\u001b[1;33m\u001b[0m\u001b[1;33m\u001b[0m\u001b[0m\n\u001b[1;32m----> 2\u001b[1;33m \u001b[0msearch_button2\u001b[0m\u001b[1;33m=\u001b[0m\u001b[0mdriver\u001b[0m\u001b[1;33m.\u001b[0m\u001b[0mfind_element_by_xpath\u001b[0m\u001b[1;33m(\u001b[0m\u001b[1;34m'/html/body/div[1]/div/div[3]/div[1]/div[2]/div[9]/div[6]/div/a/div/span'\u001b[0m\u001b[1;33m)\u001b[0m\u001b[1;31m# Absolute path\u001b[0m\u001b[1;33m\u001b[0m\u001b[1;33m\u001b[0m\u001b[0m\n\u001b[0m\u001b[0;32m      3\u001b[0m \u001b[0msearch_button2\u001b[0m\u001b[1;33m.\u001b[0m\u001b[0mclick\u001b[0m\u001b[1;33m(\u001b[0m\u001b[1;33m)\u001b[0m\u001b[1;33m\u001b[0m\u001b[1;33m\u001b[0m\u001b[0m\n",
      "\u001b[1;32mC:\\ProgramData\\Anaconda3\\lib\\site-packages\\selenium\\webdriver\\remote\\webdriver.py\u001b[0m in \u001b[0;36mfind_element_by_xpath\u001b[1;34m(self, xpath)\u001b[0m\n\u001b[0;32m    524\u001b[0m             \u001b[0mstacklevel\u001b[0m\u001b[1;33m=\u001b[0m\u001b[1;36m2\u001b[0m\u001b[1;33m,\u001b[0m\u001b[1;33m\u001b[0m\u001b[1;33m\u001b[0m\u001b[0m\n\u001b[0;32m    525\u001b[0m         )\n\u001b[1;32m--> 526\u001b[1;33m         \u001b[1;32mreturn\u001b[0m \u001b[0mself\u001b[0m\u001b[1;33m.\u001b[0m\u001b[0mfind_element\u001b[0m\u001b[1;33m(\u001b[0m\u001b[0mby\u001b[0m\u001b[1;33m=\u001b[0m\u001b[0mBy\u001b[0m\u001b[1;33m.\u001b[0m\u001b[0mXPATH\u001b[0m\u001b[1;33m,\u001b[0m \u001b[0mvalue\u001b[0m\u001b[1;33m=\u001b[0m\u001b[0mxpath\u001b[0m\u001b[1;33m)\u001b[0m\u001b[1;33m\u001b[0m\u001b[1;33m\u001b[0m\u001b[0m\n\u001b[0m\u001b[0;32m    527\u001b[0m \u001b[1;33m\u001b[0m\u001b[0m\n\u001b[0;32m    528\u001b[0m     \u001b[1;32mdef\u001b[0m \u001b[0mfind_elements_by_xpath\u001b[0m\u001b[1;33m(\u001b[0m\u001b[0mself\u001b[0m\u001b[1;33m,\u001b[0m \u001b[0mxpath\u001b[0m\u001b[1;33m)\u001b[0m \u001b[1;33m->\u001b[0m \u001b[0mList\u001b[0m\u001b[1;33m[\u001b[0m\u001b[0mWebElement\u001b[0m\u001b[1;33m]\u001b[0m\u001b[1;33m:\u001b[0m\u001b[1;33m\u001b[0m\u001b[1;33m\u001b[0m\u001b[0m\n",
      "\u001b[1;32mC:\\ProgramData\\Anaconda3\\lib\\site-packages\\selenium\\webdriver\\remote\\webdriver.py\u001b[0m in \u001b[0;36mfind_element\u001b[1;34m(self, by, value)\u001b[0m\n\u001b[0;32m   1249\u001b[0m             \u001b[0mvalue\u001b[0m \u001b[1;33m=\u001b[0m \u001b[1;34m'[name=\"%s\"]'\u001b[0m \u001b[1;33m%\u001b[0m \u001b[0mvalue\u001b[0m\u001b[1;33m\u001b[0m\u001b[1;33m\u001b[0m\u001b[0m\n\u001b[0;32m   1250\u001b[0m \u001b[1;33m\u001b[0m\u001b[0m\n\u001b[1;32m-> 1251\u001b[1;33m         return self.execute(Command.FIND_ELEMENT, {\n\u001b[0m\u001b[0;32m   1252\u001b[0m             \u001b[1;34m'using'\u001b[0m\u001b[1;33m:\u001b[0m \u001b[0mby\u001b[0m\u001b[1;33m,\u001b[0m\u001b[1;33m\u001b[0m\u001b[1;33m\u001b[0m\u001b[0m\n\u001b[0;32m   1253\u001b[0m             'value': value})['value']\n",
      "\u001b[1;32mC:\\ProgramData\\Anaconda3\\lib\\site-packages\\selenium\\webdriver\\remote\\webdriver.py\u001b[0m in \u001b[0;36mexecute\u001b[1;34m(self, driver_command, params)\u001b[0m\n\u001b[0;32m    428\u001b[0m         \u001b[0mresponse\u001b[0m \u001b[1;33m=\u001b[0m \u001b[0mself\u001b[0m\u001b[1;33m.\u001b[0m\u001b[0mcommand_executor\u001b[0m\u001b[1;33m.\u001b[0m\u001b[0mexecute\u001b[0m\u001b[1;33m(\u001b[0m\u001b[0mdriver_command\u001b[0m\u001b[1;33m,\u001b[0m \u001b[0mparams\u001b[0m\u001b[1;33m)\u001b[0m\u001b[1;33m\u001b[0m\u001b[1;33m\u001b[0m\u001b[0m\n\u001b[0;32m    429\u001b[0m         \u001b[1;32mif\u001b[0m \u001b[0mresponse\u001b[0m\u001b[1;33m:\u001b[0m\u001b[1;33m\u001b[0m\u001b[1;33m\u001b[0m\u001b[0m\n\u001b[1;32m--> 430\u001b[1;33m             \u001b[0mself\u001b[0m\u001b[1;33m.\u001b[0m\u001b[0merror_handler\u001b[0m\u001b[1;33m.\u001b[0m\u001b[0mcheck_response\u001b[0m\u001b[1;33m(\u001b[0m\u001b[0mresponse\u001b[0m\u001b[1;33m)\u001b[0m\u001b[1;33m\u001b[0m\u001b[1;33m\u001b[0m\u001b[0m\n\u001b[0m\u001b[0;32m    431\u001b[0m             response['value'] = self._unwrap_value(\n\u001b[0;32m    432\u001b[0m                 response.get('value', None))\n",
      "\u001b[1;32mC:\\ProgramData\\Anaconda3\\lib\\site-packages\\selenium\\webdriver\\remote\\errorhandler.py\u001b[0m in \u001b[0;36mcheck_response\u001b[1;34m(self, response)\u001b[0m\n\u001b[0;32m    245\u001b[0m                 \u001b[0malert_text\u001b[0m \u001b[1;33m=\u001b[0m \u001b[0mvalue\u001b[0m\u001b[1;33m[\u001b[0m\u001b[1;34m'alert'\u001b[0m\u001b[1;33m]\u001b[0m\u001b[1;33m.\u001b[0m\u001b[0mget\u001b[0m\u001b[1;33m(\u001b[0m\u001b[1;34m'text'\u001b[0m\u001b[1;33m)\u001b[0m\u001b[1;33m\u001b[0m\u001b[1;33m\u001b[0m\u001b[0m\n\u001b[0;32m    246\u001b[0m             \u001b[1;32mraise\u001b[0m \u001b[0mexception_class\u001b[0m\u001b[1;33m(\u001b[0m\u001b[0mmessage\u001b[0m\u001b[1;33m,\u001b[0m \u001b[0mscreen\u001b[0m\u001b[1;33m,\u001b[0m \u001b[0mstacktrace\u001b[0m\u001b[1;33m,\u001b[0m \u001b[0malert_text\u001b[0m\u001b[1;33m)\u001b[0m  \u001b[1;31m# type: ignore[call-arg]  # mypy is not smart enough here\u001b[0m\u001b[1;33m\u001b[0m\u001b[1;33m\u001b[0m\u001b[0m\n\u001b[1;32m--> 247\u001b[1;33m         \u001b[1;32mraise\u001b[0m \u001b[0mexception_class\u001b[0m\u001b[1;33m(\u001b[0m\u001b[0mmessage\u001b[0m\u001b[1;33m,\u001b[0m \u001b[0mscreen\u001b[0m\u001b[1;33m,\u001b[0m \u001b[0mstacktrace\u001b[0m\u001b[1;33m)\u001b[0m\u001b[1;33m\u001b[0m\u001b[1;33m\u001b[0m\u001b[0m\n\u001b[0m\u001b[0;32m    248\u001b[0m \u001b[1;33m\u001b[0m\u001b[0m\n\u001b[0;32m    249\u001b[0m     \u001b[1;32mdef\u001b[0m \u001b[0m_value_or_default\u001b[0m\u001b[1;33m(\u001b[0m\u001b[0mself\u001b[0m\u001b[1;33m,\u001b[0m \u001b[0mobj\u001b[0m\u001b[1;33m:\u001b[0m \u001b[0mMapping\u001b[0m\u001b[1;33m[\u001b[0m\u001b[0m_KT\u001b[0m\u001b[1;33m,\u001b[0m \u001b[0m_VT\u001b[0m\u001b[1;33m]\u001b[0m\u001b[1;33m,\u001b[0m \u001b[0mkey\u001b[0m\u001b[1;33m:\u001b[0m \u001b[0m_KT\u001b[0m\u001b[1;33m,\u001b[0m \u001b[0mdefault\u001b[0m\u001b[1;33m:\u001b[0m \u001b[0m_VT\u001b[0m\u001b[1;33m)\u001b[0m \u001b[1;33m->\u001b[0m \u001b[0m_VT\u001b[0m\u001b[1;33m:\u001b[0m\u001b[1;33m\u001b[0m\u001b[1;33m\u001b[0m\u001b[0m\n",
      "\u001b[1;31mNoSuchElementException\u001b[0m: Message: no such element: Unable to locate element: {\"method\":\"xpath\",\"selector\":\"/html/body/div[1]/div/div[3]/div[1]/div[2]/div[9]/div[6]/div/a/div/span\"}\n  (Session info: chrome=102.0.5005.63)\nStacktrace:\nBacktrace:\n\tOrdinal0 [0x00C1B8F3+2406643]\n\tOrdinal0 [0x00BAAF31+1945393]\n\tOrdinal0 [0x00A9C748+837448]\n\tOrdinal0 [0x00AC92E0+1020640]\n\tOrdinal0 [0x00AC957B+1021307]\n\tOrdinal0 [0x00AF6372+1205106]\n\tOrdinal0 [0x00AE42C4+1131204]\n\tOrdinal0 [0x00AF4682+1197698]\n\tOrdinal0 [0x00AE4096+1130646]\n\tOrdinal0 [0x00ABE636+976438]\n\tOrdinal0 [0x00ABF546+980294]\n\tGetHandleVerifier [0x00E89612+2498066]\n\tGetHandleVerifier [0x00E7C920+2445600]\n\tGetHandleVerifier [0x00CB4F2A+579370]\n\tGetHandleVerifier [0x00CB3D36+574774]\n\tOrdinal0 [0x00BB1C0B+1973259]\n\tOrdinal0 [0x00BB6688+1992328]\n\tOrdinal0 [0x00BB6775+1992565]\n\tOrdinal0 [0x00BBF8D1+2029777]\n\tBaseThreadInitThunk [0x766F6739+25]\n\tRtlGetFullPathName_UEx [0x77268FEF+1215]\n\tRtlGetFullPathName_UEx [0x77268FBD+1165]\n"
     ]
    }
   ],
   "source": [
    "#Click on all reviews\n",
    "search_button2=driver.find_element_by_xpath('/html/body/div[1]/div/div[3]/div[1]/div[2]/div[9]/div[6]/div/a/div/span')# Absolute path\n",
    "search_button2.click()\n"
   ]
  },
  {
   "cell_type": "code",
   "execution_count": 13,
   "id": "e3377f34",
   "metadata": {},
   "outputs": [],
   "source": [
    "driver.close()"
   ]
  },
  {
   "cell_type": "code",
   "execution_count": 582,
   "id": "e3571b77",
   "metadata": {},
   "outputs": [],
   "source": [
    "driver.close()"
   ]
  },
  {
   "cell_type": "code",
   "execution_count": 32,
   "id": "4f14ed49",
   "metadata": {},
   "outputs": [
    {
     "data": {
      "text/plain": [
       "[]"
      ]
     },
     "execution_count": 32,
     "metadata": {},
     "output_type": "execute_result"
    }
   ],
   "source": [
    "#To extract the all the job titles having\n",
    "title_tag=driver.find_elements_by_xpath('//p[@class=\"_2-N8zT\"]') #Relaticve path\n",
    "title_tag[0:10]# To give the range to extract the 10 results"
   ]
  },
  {
   "cell_type": "code",
   "execution_count": 564,
   "id": "1481c9fc",
   "metadata": {},
   "outputs": [
    {
     "data": {
      "text/plain": [
       "['1', '110', '160', '13', '7', '11', '5', '136', '44', '17']"
      ]
     },
     "execution_count": 564,
     "metadata": {},
     "output_type": "execute_result"
    }
   ],
   "source": [
    "#Loop to iterate the tag extract from the abovr code\n",
    "for i in rating:#iterating the web element over the title tag\n",
    "    title=i.text # Extracting text from web element\n",
    "    rating_list.append(title.replace(\"Reviews\",'')) #appending to the extracted test list to job title list\n",
    "rate=rating_list[0:10]   #print the top 10 data\n",
    "rate"
   ]
  },
  {
   "cell_type": "code",
   "execution_count": 568,
   "id": "771002a8",
   "metadata": {},
   "outputs": [
    {
     "ename": "IndentationError",
     "evalue": "unindent does not match any outer indentation level (<tokenize>, line 8)",
     "output_type": "error",
     "traceback": [
      "\u001b[1;36m  File \u001b[1;32m\"<tokenize>\"\u001b[1;36m, line \u001b[1;32m8\u001b[0m\n\u001b[1;33m    \"\"\" next_button=driver.find_element_by_xpath('/html/body/div[1]/div/div[3]/div[1]/div[2]/div[9]/div[6]/div/a/div/span')\u001b[0m\n\u001b[1;37m    ^\u001b[0m\n\u001b[1;31mIndentationError\u001b[0m\u001b[1;31m:\u001b[0m unindent does not match any outer indentation level\n"
     ]
    }
   ],
   "source": [
    "#To extract the brand\n",
    "rating=[]\n",
    "for i in range(0,10):\n",
    "    rate_value=driver.find_elements_by_xpath('class=\"_2-N8zT\"')\n",
    "    for i in rate_value:\n",
    "        add_brand=i.text\n",
    "        rating.append(add_brand)\n",
    "  \"\"\" next_button=driver.find_element_by_xpath('/html/body/div[1]/div/div[3]/div[1]/div[2]/div[9]/div[6]/div/a/div/span')\n",
    "    next_button.click()\n",
    "    time.sleep(5)\n",
    "\"\"\"\n",
    "rating=brand[0:100] \n",
    "rating"
   ]
  },
  {
   "cell_type": "markdown",
   "id": "df0344e3",
   "metadata": {},
   "source": [
    "# Q6: Scrape data for first 100 sneakers you find when you visit flipkart.com and search for “sneakers” in the\n",
    "search field.\n",
    "You have to scrape 4 attributes of each sneaker:\n",
    "1. Brand\n",
    "2. Product Description\n",
    "3. Price\n",
    "As shown in the below image, you have to scrape the tick marked attributes."
   ]
  },
  {
   "cell_type": "code",
   "execution_count": 520,
   "id": "edbb21fc",
   "metadata": {},
   "outputs": [],
   "source": [
    "driver=webdriver.Chrome(\"chromedriver.exe\") #Run from the current directory\n",
    "time.sleep(2)"
   ]
  },
  {
   "cell_type": "code",
   "execution_count": 521,
   "id": "fc277417",
   "metadata": {},
   "outputs": [],
   "source": [
    "#To access the website by by code\n",
    "driver.get(\"https://www.flipkart.com/\")"
   ]
  },
  {
   "cell_type": "code",
   "execution_count": 522,
   "id": "b0eac4b2",
   "metadata": {},
   "outputs": [],
   "source": [
    "search_field_destination=driver.find_element_by_class_name('_3704LK')#Job search bar\n",
    "search_field_destination.send_keys('sneakers')\n",
    "\n",
    "search_button=driver.find_element_by_xpath('/html/body/div/div/div[1]/div[1]/div[2]/div[2]/form/div/button')# Absolute path\n",
    "search_button.click()"
   ]
  },
  {
   "cell_type": "code",
   "execution_count": 540,
   "id": "21b7508d",
   "metadata": {},
   "outputs": [],
   "source": [
    "#To extract the brand\n",
    "brand=[]\n",
    "for i in range(0,3):\n",
    "    brand_value=driver.find_elements_by_xpath('//div[@class=\"_2WkVRV\"]')\n",
    "    for i in brand_value:\n",
    "        add_brand=i.text\n",
    "        brand.append(add_brand)\n",
    "    next_button=driver.find_element_by_xpath('/html/body/div[1]/div/div[3]/div[1]/div[2]/div[12]/div/div/nav/a[11]')\n",
    "    next_button.click()\n",
    "    time.sleep(5)\n",
    "\n",
    "brand=brand[0:100] \n"
   ]
  },
  {
   "cell_type": "code",
   "execution_count": 539,
   "id": "9e108c9c",
   "metadata": {},
   "outputs": [],
   "source": [
    "#To extract the Product Description\n",
    "description=[]\n",
    "for i in range(0,3):\n",
    "    brand_value=driver.find_elements_by_xpath('//a[@class=\"IRpwTa\"]')\n",
    "    for i in brand_value:\n",
    "        add_desc=i.text\n",
    "        description.append(add_desc)\n",
    "    next_button=driver.find_element_by_xpath('/html/body/div/div/div[3]/div[1]/div[2]/div[12]/div/div/nav/a[12]')\n",
    "    next_button.click()\n",
    "    time.sleep(5)\n",
    "   \n",
    "description=description[0:100]\n",
    "\n"
   ]
  },
  {
   "cell_type": "code",
   "execution_count": 538,
   "id": "7aec3eaa",
   "metadata": {},
   "outputs": [],
   "source": [
    "#To extract the Price\n",
    "price=[]\n",
    "for i in range(0,3):\n",
    "    brand_value=driver.find_elements_by_xpath('//div[@class=\"_30jeq3\"]')\n",
    "    for i in brand_value:\n",
    "        add_desc=i.text\n",
    "        price.append(add_desc)\n",
    "    next_button=driver.find_element_by_xpath('/html/body/div/div/div[3]/div[1]/div[2]/div[12]/div/div/nav/a[12]')\n",
    "    next_button.click()\n",
    "    time.sleep(5)\n",
    "price=price[0:100]\n"
   ]
  },
  {
   "cell_type": "code",
   "execution_count": 541,
   "id": "eb4daef2",
   "metadata": {},
   "outputs": [],
   "source": [
    "#To extract the offer\n",
    "off=[]\n",
    "for i in range(0,3):\n",
    "    offer=driver.find_elements_by_xpath('//div[@class=\"_3Ay6Sb\"]')\n",
    "    for i in offer:\n",
    "        add_desc=i.text\n",
    "        off.append(add_desc)\n",
    "    next_button=driver.find_element_by_xpath('/html/body/div/div/div[3]/div[1]/div[2]/div[12]/div/div/nav/a[12]')\n",
    "    next_button.click()\n",
    "    time.sleep(5)\n",
    "off=off[0:100]\n"
   ]
  },
  {
   "cell_type": "code",
   "execution_count": 542,
   "id": "82bb6139",
   "metadata": {},
   "outputs": [
    {
     "name": "stdout",
     "output_type": "stream",
     "text": [
      "100 100 100 100\n"
     ]
    },
    {
     "data": {
      "text/html": [
       "<div>\n",
       "<style scoped>\n",
       "    .dataframe tbody tr th:only-of-type {\n",
       "        vertical-align: middle;\n",
       "    }\n",
       "\n",
       "    .dataframe tbody tr th {\n",
       "        vertical-align: top;\n",
       "    }\n",
       "\n",
       "    .dataframe thead th {\n",
       "        text-align: right;\n",
       "    }\n",
       "</style>\n",
       "<table border=\"1\" class=\"dataframe\">\n",
       "  <thead>\n",
       "    <tr style=\"text-align: right;\">\n",
       "      <th></th>\n",
       "      <th>Brand</th>\n",
       "      <th>Description</th>\n",
       "      <th>Price</th>\n",
       "      <th>Offer</th>\n",
       "    </tr>\n",
       "  </thead>\n",
       "  <tbody>\n",
       "    <tr>\n",
       "      <th>0</th>\n",
       "      <td>RED TAPE</td>\n",
       "      <td>RTE0148 Sneakers For Men</td>\n",
       "      <td>₹658</td>\n",
       "      <td>80% off</td>\n",
       "    </tr>\n",
       "    <tr>\n",
       "      <th>1</th>\n",
       "      <td>Dizzler</td>\n",
       "      <td>Ralph Sampson Vulc Sneakers For Men</td>\n",
       "      <td>₹465</td>\n",
       "      <td>35% off</td>\n",
       "    </tr>\n",
       "    <tr>\n",
       "      <th>2</th>\n",
       "      <td>PUMA</td>\n",
       "      <td>RS-Z Sneakers For Men</td>\n",
       "      <td>₹2,749</td>\n",
       "      <td>50% off</td>\n",
       "    </tr>\n",
       "    <tr>\n",
       "      <th>3</th>\n",
       "      <td>PUMA</td>\n",
       "      <td>Reebok Royal Complete Cln BSc Sneakers For Men</td>\n",
       "      <td>₹5,179</td>\n",
       "      <td>48% off</td>\n",
       "    </tr>\n",
       "    <tr>\n",
       "      <th>4</th>\n",
       "      <td>REEBOK CLASSICS</td>\n",
       "      <td>Sneakers For Men</td>\n",
       "      <td>₹1,538</td>\n",
       "      <td>59% off</td>\n",
       "    </tr>\n",
       "    <tr>\n",
       "      <th>...</th>\n",
       "      <td>...</td>\n",
       "      <td>...</td>\n",
       "      <td>...</td>\n",
       "      <td>...</td>\n",
       "    </tr>\n",
       "    <tr>\n",
       "      <th>95</th>\n",
       "      <td>ADIDAS ORIGINALS</td>\n",
       "      <td>Sneakers For Men</td>\n",
       "      <td>₹3,255</td>\n",
       "      <td>53% off</td>\n",
       "    </tr>\n",
       "    <tr>\n",
       "      <th>96</th>\n",
       "      <td>LastStep</td>\n",
       "      <td>Sneakers For Men</td>\n",
       "      <td>₹499</td>\n",
       "      <td>66% off</td>\n",
       "    </tr>\n",
       "    <tr>\n",
       "      <th>97</th>\n",
       "      <td>MOHLIYE</td>\n",
       "      <td>Future Rider Vintage Sneakers For Men</td>\n",
       "      <td>₹295</td>\n",
       "      <td>57% off</td>\n",
       "    </tr>\n",
       "    <tr>\n",
       "      <th>98</th>\n",
       "      <td>BRUTON</td>\n",
       "      <td>Sneakers For Men</td>\n",
       "      <td>₹239</td>\n",
       "      <td>81% off</td>\n",
       "    </tr>\n",
       "    <tr>\n",
       "      <th>99</th>\n",
       "      <td>ADIDAS</td>\n",
       "      <td>Sneakers For Men</td>\n",
       "      <td>₹3,579</td>\n",
       "      <td>40% off</td>\n",
       "    </tr>\n",
       "  </tbody>\n",
       "</table>\n",
       "<p>100 rows × 4 columns</p>\n",
       "</div>"
      ],
      "text/plain": [
       "               Brand                                     Description   Price  \\\n",
       "0           RED TAPE                        RTE0148 Sneakers For Men    ₹658   \n",
       "1            Dizzler             Ralph Sampson Vulc Sneakers For Men    ₹465   \n",
       "2               PUMA                           RS-Z Sneakers For Men  ₹2,749   \n",
       "3               PUMA  Reebok Royal Complete Cln BSc Sneakers For Men  ₹5,179   \n",
       "4    REEBOK CLASSICS                                Sneakers For Men  ₹1,538   \n",
       "..               ...                                             ...     ...   \n",
       "95  ADIDAS ORIGINALS                                Sneakers For Men  ₹3,255   \n",
       "96          LastStep                                Sneakers For Men    ₹499   \n",
       "97           MOHLIYE           Future Rider Vintage Sneakers For Men    ₹295   \n",
       "98            BRUTON                                Sneakers For Men    ₹239   \n",
       "99            ADIDAS                                Sneakers For Men  ₹3,579   \n",
       "\n",
       "      Offer  \n",
       "0   80% off  \n",
       "1   35% off  \n",
       "2   50% off  \n",
       "3   48% off  \n",
       "4   59% off  \n",
       "..      ...  \n",
       "95  53% off  \n",
       "96  66% off  \n",
       "97  57% off  \n",
       "98  81% off  \n",
       "99  40% off  \n",
       "\n",
       "[100 rows x 4 columns]"
      ]
     },
     "execution_count": 542,
     "metadata": {},
     "output_type": "execute_result"
    }
   ],
   "source": [
    "print(len(brand),len(description),len(price),len(off))\n",
    "df=pd.DataFrame({\"Brand\":brand,\"Description\":description,\"Price\":price,\"Offer\":off})\n",
    "df"
   ]
  },
  {
   "cell_type": "markdown",
   "id": "76f6787f",
   "metadata": {},
   "source": [
    "# Q7: Go to the link - https://www.myntra.com/shoes\n",
    "Set second Price filter and Color filter to “Black”, as shown in the below image.\n",
    "\n",
    "And then scrape First 100 shoes data you get. The data should include “Brand” of the shoes , Short Shoe\n",
    "description, price of the shoe as shown in the below image.\n",
    "\n",
    "Note: Applying the filter and scraping the data, everything should be done through code only and there\n",
    "should not be any manual step."
   ]
  },
  {
   "cell_type": "code",
   "execution_count": null,
   "id": "bde87087",
   "metadata": {},
   "outputs": [],
   "source": [
    "driver=webdriver.Chrome(\"chromedriver.exe\") #Run from the current directory\n",
    "time.sleep(2)"
   ]
  },
  {
   "cell_type": "code",
   "execution_count": 240,
   "id": "70be05c0",
   "metadata": {},
   "outputs": [],
   "source": [
    "#To access the website by by code\n",
    "driver.get(\"https://www.myntra.com/shoes\")"
   ]
  },
  {
   "cell_type": "code",
   "execution_count": 241,
   "id": "63df3cb2",
   "metadata": {},
   "outputs": [],
   "source": [
    "tick_checkbox=driver.find_element_by_xpath('/html/body/div[2]/div/div[1]/main/div[3]/div[1]/section/div/div[5]/ul/li[2]/label/div')# Absolute path\n",
    "tick_checkbox.click() # To select the price and click as per the question  2nd one to select\n"
   ]
  },
  {
   "cell_type": "code",
   "execution_count": 242,
   "id": "484a708f",
   "metadata": {},
   "outputs": [],
   "source": [
    "tick_checkbox1=driver.find_element_by_xpath('/html/body/div[2]/div/div[1]/main/div[3]/div[1]/section/div/div[6]/ul/li[1]/label/div')# Absolute path\n",
    "tick_checkbox1.click() # To select the black color"
   ]
  },
  {
   "cell_type": "code",
   "execution_count": 243,
   "id": "d84b4d4b",
   "metadata": {},
   "outputs": [
    {
     "data": {
      "text/plain": [
       "['Rs. 8999',\n",
       " 'Rs. 7999',\n",
       " 'Rs. 8895',\n",
       " 'Rs. 10495',\n",
       " 'Rs. 7149Rs. 10999(35% OFF)',\n",
       " 'Rs. 7999',\n",
       " 'Rs. 10995',\n",
       " 'Rs. 7699Rs. 10999(30% OFF)',\n",
       " 'Rs. 11495',\n",
       " 'Rs. 10495',\n",
       " 'Rs. 8499',\n",
       " 'Rs. 9999',\n",
       " 'Rs. 9999',\n",
       " 'Rs. 7999',\n",
       " 'Rs. 12999',\n",
       " 'Rs. 11999',\n",
       " 'Rs. 8999',\n",
       " 'Rs. 7499',\n",
       " 'Rs. 11041Rs. 12990(15% OFF)',\n",
       " 'Rs. 8249Rs. 14999(45% OFF)',\n",
       " 'Rs. 12990',\n",
       " 'Rs. 9891Rs. 10990(10% OFF)',\n",
       " 'Rs. 10999',\n",
       " 'Rs. 8991Rs. 9990(10% OFF)',\n",
       " 'Rs. 9441Rs. 10490(10% OFF)',\n",
       " 'Rs. 7499Rs. 14999(50% OFF)',\n",
       " 'Rs. 7199Rs. 11999(40% OFF)',\n",
       " 'Rs. 9999',\n",
       " 'Rs. 10499Rs. 14999(30% OFF)',\n",
       " 'Rs. 11999',\n",
       " 'Rs. 7999Rs. 9999(20% OFF)',\n",
       " 'Rs. 8999',\n",
       " 'Rs. 8999Rs. 17999(50% OFF)',\n",
       " 'Rs. 7999Rs. 9999(20% OFF)',\n",
       " 'Rs. 7999',\n",
       " 'Rs. 9891Rs. 10990(10% OFF)',\n",
       " 'Rs. 8491Rs. 9990(15% OFF)',\n",
       " 'Rs. 9999',\n",
       " 'Rs. 7199Rs. 7999(10% OFF)',\n",
       " 'Rs. 9341Rs. 10990(15% OFF)',\n",
       " 'Rs. 8055Rs. 8950(10% OFF)',\n",
       " 'Rs. 7999Rs. 9999(20% OFF)',\n",
       " 'Rs. 8249Rs. 10999(25% OFF)',\n",
       " 'Rs. 11699Rs. 12999(10% OFF)',\n",
       " 'Rs. 13990',\n",
       " 'Rs. 10990',\n",
       " 'Rs. 12990',\n",
       " 'Rs. 13990',\n",
       " 'Rs. 8999',\n",
       " 'Rs. 7999',\n",
       " 'Rs. 7999',\n",
       " 'Rs. 8490',\n",
       " 'Rs. 7372Rs. 10099(27% OFF)',\n",
       " 'Rs. 9999',\n",
       " 'Rs. 7999',\n",
       " 'Rs. 7999',\n",
       " 'Rs. 10710Rs. 11900(10% OFF)',\n",
       " 'Rs. 7199Rs. 11999(40% OFF)',\n",
       " 'Rs. 7699Rs. 13999(45% OFF)',\n",
       " 'Rs. 8490',\n",
       " 'Rs. 7599Rs. 7999(5% OFF)',\n",
       " 'Rs. 7149Rs. 12999(45% OFF)',\n",
       " 'Rs. 8249Rs. 10999(25% OFF)',\n",
       " 'Rs. 7492Rs. 9990(25% OFF)',\n",
       " 'Rs. 13999',\n",
       " 'Rs. 11875Rs. 12500(5% OFF)',\n",
       " 'Rs. 11999',\n",
       " 'Rs. 13999',\n",
       " 'Rs. 8075Rs. 8500(5% OFF)',\n",
       " 'Rs. 8992Rs. 11990(25% OFF)',\n",
       " 'Rs. 9999',\n",
       " 'Rs. 8455Rs. 8900(5% OFF)',\n",
       " 'Rs. 8990',\n",
       " 'Rs. 8990',\n",
       " 'Rs. 8990',\n",
       " 'Rs. 10791Rs. 11990(10% OFF)',\n",
       " 'Rs. 10791Rs. 11990(10% OFF)',\n",
       " 'Rs. 8075Rs. 8500(5% OFF)',\n",
       " 'Rs. 9891Rs. 10990(10% OFF)',\n",
       " 'Rs. 8490',\n",
       " 'Rs. 11990',\n",
       " 'Rs. 9810Rs. 10900(10% OFF)',\n",
       " 'Rs. 7999',\n",
       " 'Rs. 7499',\n",
       " 'Rs. 7499Rs. 9999(25% OFF)',\n",
       " 'Rs. 8455Rs. 8900(5% OFF)',\n",
       " 'Rs. 7450',\n",
       " 'Rs. 10990',\n",
       " 'Rs. 8091Rs. 8990(10% OFF)',\n",
       " 'Rs. 9099Rs. 13999(35% OFF)',\n",
       " 'Rs. 7199Rs. 7999(10% OFF)',\n",
       " 'Rs. 8999Rs. 9999(10% OFF)',\n",
       " 'Rs. 8099Rs. 8999(10% OFF)',\n",
       " 'Rs. 9341Rs. 10990(15% OFF)',\n",
       " 'Rs. 13990',\n",
       " 'Rs. 7990',\n",
       " 'Rs. 8991Rs. 9990(10% OFF)',\n",
       " 'Rs. 7990',\n",
       " 'Rs. 8990',\n",
       " 'Rs. 8099Rs. 8999(10% OFF)']"
      ]
     },
     "execution_count": 243,
     "metadata": {},
     "output_type": "execute_result"
    }
   ],
   "source": [
    "#To extract the price\n",
    "price=[]\n",
    "for i in range(0,3):\n",
    "    brand_value=driver.find_elements_by_xpath('//div[@class=\"product-price\"]')\n",
    "    for i in brand_value:\n",
    "        add_desc=i.text\n",
    "        price.append(add_desc)\n",
    "    next_button=driver.find_element_by_xpath('/html/body/div[2]/div/div[1]/main/div[3]/div[2]/div/div[2]/section/div[2]/ul/li[12]/a')\n",
    "    next_button.click()\n",
    "    time.sleep(5)\n",
    "price=price[0:100]\n",
    "price"
   ]
  },
  {
   "cell_type": "code",
   "execution_count": 244,
   "id": "03fed117",
   "metadata": {},
   "outputs": [
    {
     "data": {
      "text/plain": [
       "100"
      ]
     },
     "execution_count": 244,
     "metadata": {},
     "output_type": "execute_result"
    }
   ],
   "source": [
    "len(price)"
   ]
  },
  {
   "cell_type": "code",
   "execution_count": 246,
   "id": "8fcf7652",
   "metadata": {},
   "outputs": [],
   "source": [
    "tick_checkbox=driver.find_element_by_xpath('/html/body/div[2]/div/div[1]/main/div[3]/div[1]/section/div/div[5]/ul/li[2]/label/div')# Absolute path\n",
    "tick_checkbox.click() # To select the price and click as per the question  2nd one to select"
   ]
  },
  {
   "cell_type": "code",
   "execution_count": 248,
   "id": "34cb3ce2",
   "metadata": {},
   "outputs": [],
   "source": [
    "tick_checkbox1=driver.find_element_by_xpath('/html/body/div[2]/div/div[1]/main/div[3]/div[1]/section/div/div[6]/ul/li[1]/label/div')# Absolute path\n",
    "tick_checkbox1.click() # To select the black color"
   ]
  },
  {
   "cell_type": "code",
   "execution_count": 249,
   "id": "5d5ce86a",
   "metadata": {},
   "outputs": [
    {
     "data": {
      "text/plain": [
       "['UNDER ARMOUR',\n",
       " 'UNDER ARMOUR',\n",
       " 'Nike',\n",
       " 'Nike',\n",
       " 'Puma',\n",
       " 'Reebok',\n",
       " 'Nike',\n",
       " 'Puma',\n",
       " 'Nike',\n",
       " 'Nike',\n",
       " 'Skechers',\n",
       " 'Puma',\n",
       " 'Puma',\n",
       " 'UNDER ARMOUR',\n",
       " 'Puma',\n",
       " 'UNDER ARMOUR',\n",
       " 'UNDER ARMOUR',\n",
       " 'Skechers',\n",
       " 'Geox',\n",
       " 'Puma',\n",
       " 'Geox',\n",
       " 'Geox',\n",
       " 'Reebok',\n",
       " 'Geox',\n",
       " 'Geox',\n",
       " 'Puma',\n",
       " 'Puma',\n",
       " 'ADIDAS',\n",
       " 'ADIDAS',\n",
       " 'UNDER ARMOUR',\n",
       " 'Hush Puppies',\n",
       " 'UNDER ARMOUR',\n",
       " 'ADIDAS',\n",
       " 'Hush Puppies',\n",
       " 'Skechers',\n",
       " 'Geox',\n",
       " 'Geox',\n",
       " 'Puma',\n",
       " 'Hush Puppies',\n",
       " 'Geox',\n",
       " 'Geox',\n",
       " 'Hush Puppies',\n",
       " 'Vans',\n",
       " 'Columbia',\n",
       " 'Geox',\n",
       " 'Geox',\n",
       " 'Geox',\n",
       " 'Geox',\n",
       " 'Clarks',\n",
       " 'TOMS',\n",
       " 'TOMS',\n",
       " 'J.FONTINI',\n",
       " 'KIPRUN By Decathlon',\n",
       " 'UNDER ARMOUR',\n",
       " 'TOMS',\n",
       " 'ASICS',\n",
       " 'Saint G',\n",
       " 'Bugatti',\n",
       " 'ADIDAS',\n",
       " 'J.FONTINI',\n",
       " 'ASICS',\n",
       " 'Puma',\n",
       " 'ADIDAS Originals',\n",
       " 'Geox',\n",
       " 'ADIDAS',\n",
       " 'Saint G',\n",
       " 'Cole Haan',\n",
       " 'Bugatti',\n",
       " 'Saint G',\n",
       " 'Geox',\n",
       " 'Louis Philippe',\n",
       " 'Saint G',\n",
       " 'DAVINCHI',\n",
       " 'J.FONTINI',\n",
       " 'DAVINCHI',\n",
       " 'Geox',\n",
       " 'Geox',\n",
       " 'Saint G',\n",
       " 'Geox',\n",
       " 'DAVINCHI',\n",
       " 'Geox',\n",
       " 'Saint G',\n",
       " 'Clarks',\n",
       " 'Bugatti',\n",
       " 'Geox',\n",
       " 'Saint G',\n",
       " 'GABICCI',\n",
       " 'Geox',\n",
       " 'Geox',\n",
       " 'ECCO',\n",
       " 'Columbia',\n",
       " 'Columbia',\n",
       " 'Columbia',\n",
       " 'Geox',\n",
       " 'Geox',\n",
       " 'J.FONTINI',\n",
       " 'Geox',\n",
       " 'Heel & Buckle London',\n",
       " 'J.FONTINI',\n",
       " 'Geox']"
      ]
     },
     "execution_count": 249,
     "metadata": {},
     "output_type": "execute_result"
    }
   ],
   "source": [
    "#To extract the brand\n",
    "brand=[]\n",
    "for i in range(0,3):\n",
    "    brand_value=driver.find_elements_by_xpath('//h3[@class=\"product-brand\"]')\n",
    "    for i in brand_value:\n",
    "        add_brand=i.text\n",
    "        brand.append(add_brand)\n",
    "    next_button=driver.find_element_by_xpath('/html/body/div[2]/div/div[1]/main/div[3]/div[2]/div/div[2]/section/div[2]/ul/li[12]/a')\n",
    "    next_button.click()\n",
    "    time.sleep(5)\n",
    "\n",
    "brand=brand[0:100] \n",
    "brand"
   ]
  },
  {
   "cell_type": "code",
   "execution_count": 250,
   "id": "6e5ff476",
   "metadata": {},
   "outputs": [
    {
     "name": "stdout",
     "output_type": "stream",
     "text": [
      "100\n"
     ]
    }
   ],
   "source": [
    "print(len(brand))"
   ]
  },
  {
   "cell_type": "code",
   "execution_count": 251,
   "id": "5dc44301",
   "metadata": {},
   "outputs": [],
   "source": [
    "tick_checkbox=driver.find_element_by_xpath('/html/body/div[2]/div/div[1]/main/div[3]/div[1]/section/div/div[5]/ul/li[2]/label/div')# Absolute path\n",
    "tick_checkbox.click() # To select the price and click as per the question  2nd one to select"
   ]
  },
  {
   "cell_type": "code",
   "execution_count": 253,
   "id": "0569eafd",
   "metadata": {},
   "outputs": [],
   "source": [
    "tick_checkbox1=driver.find_element_by_xpath('/html/body/div[2]/div/div[1]/main/div[3]/div[1]/section/div/div[6]/ul/li[1]/label/div')# Absolute path\n",
    "tick_checkbox1.click() # To select the black color"
   ]
  },
  {
   "cell_type": "code",
   "execution_count": 254,
   "id": "5c1b332f",
   "metadata": {},
   "outputs": [
    {
     "data": {
      "text/plain": [
       "['Men UA Charged Breeze Training',\n",
       " 'Men Charged Rouge 3 Run Shoes',\n",
       " 'Men Zoom C Pro HC Tennis Shoes',\n",
       " 'Women Pegasus 39 Running Shoes',\n",
       " 'Men Voyage Nitro Running Shoes',\n",
       " 'Men Nanoflex TR Training Shoes',\n",
       " 'Women Free Metcon 4 Training',\n",
       " 'Men Velocity Nitro 2 Running',\n",
       " 'Women React Escape Running',\n",
       " 'Women React MR 3 Running Shoes',\n",
       " 'Men ARCH FIT ROAD WALKER',\n",
       " 'Men Running Shoes',\n",
       " 'Electrify Nitro Running Shoes',\n",
       " 'Men UA Charged Vantage 2 Run',\n",
       " 'Men M Nitro Running Shoess',\n",
       " 'Men UA TriBase Reign4 Training',\n",
       " 'Men Charged Breeze Running',\n",
       " 'Men Woven Design Sneakers',\n",
       " 'Men Leather Loafers',\n",
       " 'Men Deviate Nitro Shoes',\n",
       " 'Men Leather Sneakers',\n",
       " 'Men Textured Leather Driving Shoes',\n",
       " 'Unisex Zig Kinetica 2.5 Shoes',\n",
       " 'Men Textured Leather Slip-On Sneakers',\n",
       " 'Men Textured Leather Driving Shoes',\n",
       " 'Women Running Sports Shoes',\n",
       " 'Men Velocity Nitro Running',\n",
       " 'Women Supernova Running Shoes',\n",
       " 'Men Solar Glide 4 ST Running',\n",
       " 'W omen TriBase Reign 4 Running',\n",
       " 'Men Formal Derbys',\n",
       " 'Women Charged Breeze Running',\n",
       " 'Women Sports Shoes',\n",
       " 'Men Solid Formal Slip-Ons',\n",
       " 'Men Textured Sneakers',\n",
       " 'Men Textured Leather Driving Shoes',\n",
       " 'Men Textured Leather Driving Shoes',\n",
       " 'Women Liberate NITRO Running',\n",
       " 'Men Textured Leather Sneakers',\n",
       " 'Men Textured Leather Driving Shoes',\n",
       " 'Women Ballerinas Flats',\n",
       " 'Men Solid Leather Formal Slip-Ons',\n",
       " 'Men Colourblocked Sneakers',\n",
       " 'Men FACET OUTDRY Trekking Shoe',\n",
       " 'Men Perforations Sneakers',\n",
       " 'Men Leather Sneakers',\n",
       " 'Men Leather Sneakers',\n",
       " 'Men Leather Sneakers',\n",
       " 'Men Leather Slip-On Sneakers',\n",
       " 'Men Alpargata Slip-On Sneakers',\n",
       " 'Men Alpargata Slip-On Sneakers',\n",
       " 'Men Textured Leather Loafers',\n",
       " 'Men Running Shoes',\n",
       " 'Women Hovr Sonic SE Run Shoes',\n",
       " 'Men Sneakers',\n",
       " 'Women Running Shoes',\n",
       " 'Men Leather Chelsea Boots',\n",
       " 'Men Textured Leather High-Top Flat Boots',\n",
       " 'Women Solar Glide 5 Running',\n",
       " 'Men Leather Fashion',\n",
       " 'Women Running Shoes',\n",
       " 'Women Magnify Nitro Running',\n",
       " 'Women Ozelia Sneakers',\n",
       " 'Women Textured Leather Loafers',\n",
       " 'Women KarlieKlossX9000 Running',\n",
       " 'Leather High-Top Heeled Boots',\n",
       " 'Men GENERATION ZEROGRAND STITCHLITE',\n",
       " 'Men Leather Formal Derbys',\n",
       " 'Stiletto Heel Mules',\n",
       " 'Men Leather Driving Shoes',\n",
       " 'Men Solid Leather Formal Loafers',\n",
       " 'Suede Embellished Ankle Boots',\n",
       " 'Men Formal Leather Slip-Ons',\n",
       " 'Men Textured Leather Formal Loafers',\n",
       " 'Men Textured Formal Leather Loafers',\n",
       " 'Textured Leather Block Pumps',\n",
       " 'Leather Block Pumps',\n",
       " 'Women Open Toe Flats',\n",
       " 'Leather Block Sandals',\n",
       " 'Men Solid Leather Formal Loafers',\n",
       " 'Flatform Heels',\n",
       " 'Leather Block Sandals',\n",
       " 'Men Solid Leather Formal Loafers',\n",
       " 'Men Solid Leather Formal Derbys',\n",
       " 'Men Leather Formal Derbys',\n",
       " 'Women Leather Heeled Mules',\n",
       " 'Men Formal Slip-on Shoes',\n",
       " 'Women Ballerinas Flats',\n",
       " 'Women Open Toe Flats',\n",
       " 'Women Textured Leather Sneakers',\n",
       " 'Women REDMOND V2 TrekkingShoe',\n",
       " 'PEAKFREAK OUTDRY Trekking Shoe',\n",
       " 'Women Trekking Shoes',\n",
       " 'Men Leather Loafers',\n",
       " 'Men Solid Slip-On Sneakers',\n",
       " 'Men Textured Leather Loafers',\n",
       " 'Men Leather Formal Slip-Ons',\n",
       " 'Men Formal Leather Derby',\n",
       " 'Men Solid Loafers',\n",
       " 'Women Leather Pumps']"
      ]
     },
     "execution_count": 254,
     "metadata": {},
     "output_type": "execute_result"
    }
   ],
   "source": [
    "#To extract the Product Description\n",
    "description=[]\n",
    "for i in range(0,3):\n",
    "    brand_value=driver.find_elements_by_xpath('//h4[@class=\"product-product\"]')\n",
    "    for i in brand_value:\n",
    "        add_desc=i.text\n",
    "        description.append(add_desc)\n",
    "    next_button=driver.find_element_by_xpath('/html/body/div[2]/div/div[1]/main/div[3]/div[2]/div/div[2]/section/div[2]/ul/li[12]/a')\n",
    "    next_button.click()\n",
    "    time.sleep(5)\n",
    "   \n",
    "description=description[0:100]\n",
    "description"
   ]
  },
  {
   "cell_type": "code",
   "execution_count": 255,
   "id": "a3a096b8",
   "metadata": {},
   "outputs": [
    {
     "name": "stdout",
     "output_type": "stream",
     "text": [
      "100\n"
     ]
    }
   ],
   "source": [
    "print(len(description))"
   ]
  },
  {
   "cell_type": "code",
   "execution_count": 256,
   "id": "9ad9df31",
   "metadata": {},
   "outputs": [
    {
     "data": {
      "text/html": [
       "<div>\n",
       "<style scoped>\n",
       "    .dataframe tbody tr th:only-of-type {\n",
       "        vertical-align: middle;\n",
       "    }\n",
       "\n",
       "    .dataframe tbody tr th {\n",
       "        vertical-align: top;\n",
       "    }\n",
       "\n",
       "    .dataframe thead th {\n",
       "        text-align: right;\n",
       "    }\n",
       "</style>\n",
       "<table border=\"1\" class=\"dataframe\">\n",
       "  <thead>\n",
       "    <tr style=\"text-align: right;\">\n",
       "      <th></th>\n",
       "      <th>Brand</th>\n",
       "      <th>Product Description</th>\n",
       "      <th>Price</th>\n",
       "    </tr>\n",
       "  </thead>\n",
       "  <tbody>\n",
       "    <tr>\n",
       "      <th>0</th>\n",
       "      <td>UNDER ARMOUR</td>\n",
       "      <td>Men UA Charged Breeze Training</td>\n",
       "      <td>Rs. 8999</td>\n",
       "    </tr>\n",
       "    <tr>\n",
       "      <th>1</th>\n",
       "      <td>UNDER ARMOUR</td>\n",
       "      <td>Men Charged Rouge 3 Run Shoes</td>\n",
       "      <td>Rs. 7999</td>\n",
       "    </tr>\n",
       "    <tr>\n",
       "      <th>2</th>\n",
       "      <td>Nike</td>\n",
       "      <td>Men Zoom C Pro HC Tennis Shoes</td>\n",
       "      <td>Rs. 8895</td>\n",
       "    </tr>\n",
       "    <tr>\n",
       "      <th>3</th>\n",
       "      <td>Nike</td>\n",
       "      <td>Women Pegasus 39 Running Shoes</td>\n",
       "      <td>Rs. 10495</td>\n",
       "    </tr>\n",
       "    <tr>\n",
       "      <th>4</th>\n",
       "      <td>Puma</td>\n",
       "      <td>Men Voyage Nitro Running Shoes</td>\n",
       "      <td>Rs. 7149Rs. 10999(35% OFF)</td>\n",
       "    </tr>\n",
       "    <tr>\n",
       "      <th>...</th>\n",
       "      <td>...</td>\n",
       "      <td>...</td>\n",
       "      <td>...</td>\n",
       "    </tr>\n",
       "    <tr>\n",
       "      <th>95</th>\n",
       "      <td>J.FONTINI</td>\n",
       "      <td>Men Textured Leather Loafers</td>\n",
       "      <td>Rs. 7990</td>\n",
       "    </tr>\n",
       "    <tr>\n",
       "      <th>96</th>\n",
       "      <td>Geox</td>\n",
       "      <td>Men Leather Formal Slip-Ons</td>\n",
       "      <td>Rs. 8991Rs. 9990(10% OFF)</td>\n",
       "    </tr>\n",
       "    <tr>\n",
       "      <th>97</th>\n",
       "      <td>Heel &amp; Buckle London</td>\n",
       "      <td>Men Formal Leather Derby</td>\n",
       "      <td>Rs. 7990</td>\n",
       "    </tr>\n",
       "    <tr>\n",
       "      <th>98</th>\n",
       "      <td>J.FONTINI</td>\n",
       "      <td>Men Solid Loafers</td>\n",
       "      <td>Rs. 8990</td>\n",
       "    </tr>\n",
       "    <tr>\n",
       "      <th>99</th>\n",
       "      <td>Geox</td>\n",
       "      <td>Women Leather Pumps</td>\n",
       "      <td>Rs. 8099Rs. 8999(10% OFF)</td>\n",
       "    </tr>\n",
       "  </tbody>\n",
       "</table>\n",
       "<p>100 rows × 3 columns</p>\n",
       "</div>"
      ],
      "text/plain": [
       "                   Brand             Product Description  \\\n",
       "0           UNDER ARMOUR  Men UA Charged Breeze Training   \n",
       "1           UNDER ARMOUR   Men Charged Rouge 3 Run Shoes   \n",
       "2                   Nike  Men Zoom C Pro HC Tennis Shoes   \n",
       "3                   Nike  Women Pegasus 39 Running Shoes   \n",
       "4                   Puma  Men Voyage Nitro Running Shoes   \n",
       "..                   ...                             ...   \n",
       "95             J.FONTINI    Men Textured Leather Loafers   \n",
       "96                  Geox     Men Leather Formal Slip-Ons   \n",
       "97  Heel & Buckle London        Men Formal Leather Derby   \n",
       "98             J.FONTINI               Men Solid Loafers   \n",
       "99                  Geox             Women Leather Pumps   \n",
       "\n",
       "                         Price  \n",
       "0                     Rs. 8999  \n",
       "1                     Rs. 7999  \n",
       "2                     Rs. 8895  \n",
       "3                    Rs. 10495  \n",
       "4   Rs. 7149Rs. 10999(35% OFF)  \n",
       "..                         ...  \n",
       "95                    Rs. 7990  \n",
       "96   Rs. 8991Rs. 9990(10% OFF)  \n",
       "97                    Rs. 7990  \n",
       "98                    Rs. 8990  \n",
       "99   Rs. 8099Rs. 8999(10% OFF)  \n",
       "\n",
       "[100 rows x 3 columns]"
      ]
     },
     "execution_count": 256,
     "metadata": {},
     "output_type": "execute_result"
    }
   ],
   "source": [
    "df=pd.DataFrame({\"Brand\":brand,\"Product Description\":description,\"Price\":price})\n",
    "df"
   ]
  },
  {
   "cell_type": "code",
   "execution_count": 257,
   "id": "786f94b3",
   "metadata": {},
   "outputs": [],
   "source": [
    "driver.close()"
   ]
  },
  {
   "cell_type": "markdown",
   "id": "47b5dfd0",
   "metadata": {},
   "source": [
    "# Q8: Go to webpage https://www.amazon.in/\n",
    "Enter “Laptop” in the search field and then click the search icon.\n",
    "Then set CPU Type filter to “Intel Core i7” as shown in the below image:\n",
    "After setting the filters scrape first 10 laptops data. You have to scrape 3 attributesfor each laptop:\n",
    "1. Title\n",
    "2. Ratings\n",
    "3. Price\n",
    "Note: All the steps required during scraping should be done through code only and not manually.\n"
   ]
  },
  {
   "cell_type": "code",
   "execution_count": 490,
   "id": "5a8dfbbb",
   "metadata": {},
   "outputs": [],
   "source": [
    "driver=webdriver.Chrome(\"chromedriver.exe\") #Run from the current directory\n",
    "time.sleep(2)\n"
   ]
  },
  {
   "cell_type": "code",
   "execution_count": 491,
   "id": "a665eadf",
   "metadata": {},
   "outputs": [],
   "source": [
    "#To access the website by by code\n",
    "driver.get(\"https://www.amazon.in/\")"
   ]
  },
  {
   "cell_type": "code",
   "execution_count": 492,
   "id": "c357108d",
   "metadata": {},
   "outputs": [],
   "source": [
    "search_field_loc=driver.find_element_by_xpath('/html/body/div[1]/header/div/div[1]/div[2]/div/form/div[2]/div[1]/input')# Absolute path\n",
    "#purpose of using abosulte path is it has 2 column field so we choose absolute path to find the location\n",
    "search_field_loc.send_keys('Laptop')"
   ]
  },
  {
   "cell_type": "code",
   "execution_count": 493,
   "id": "14b42f34",
   "metadata": {},
   "outputs": [],
   "source": [
    "#To click on the the search option\n",
    "search_button6=driver.find_element_by_xpath('/html/body/div[1]/header/div/div[1]/div[2]/div/form/div[3]/div/span')# Absolute path\n",
    "search_button6.click()"
   ]
  },
  {
   "cell_type": "code",
   "execution_count": 494,
   "id": "da20b7ea",
   "metadata": {},
   "outputs": [],
   "source": [
    "#To tick on the the search option \"“Intel Core i7”\"\n",
    "search_button7=driver.find_element_by_xpath('/html/body/div[1]/div[2]/div[1]/div[2]/div/div[3]/span/div[1]/div/div/div[6]/ul[4]/li[13]/span/a/div/label/i')# Absolute path\n",
    "search_button7.click()"
   ]
  },
  {
   "cell_type": "code",
   "execution_count": 495,
   "id": "6ba5ced0",
   "metadata": {},
   "outputs": [
    {
     "data": {
      "text/plain": [
       "[<selenium.webdriver.remote.webelement.WebElement (session=\"d1a19c0a573f2ce288766cb557b398ab\", element=\"694f5557-c19d-4d9c-b12e-36f9a0640e50\")>,\n",
       " <selenium.webdriver.remote.webelement.WebElement (session=\"d1a19c0a573f2ce288766cb557b398ab\", element=\"98087fb2-5cf4-45df-9906-010d626bb27a\")>,\n",
       " <selenium.webdriver.remote.webelement.WebElement (session=\"d1a19c0a573f2ce288766cb557b398ab\", element=\"18f81169-a10e-4ade-aad3-64d8e2e19c08\")>,\n",
       " <selenium.webdriver.remote.webelement.WebElement (session=\"d1a19c0a573f2ce288766cb557b398ab\", element=\"28817499-a37d-4f82-b2ca-4b3075c67e90\")>]"
      ]
     },
     "execution_count": 495,
     "metadata": {},
     "output_type": "execute_result"
    }
   ],
   "source": [
    "#To extract title\n",
    "title1=driver.find_elements_by_xpath('//h2[@class=\"a-size-mini a-spacing-none a-color-base s-line-clamp-2\"]') #Relaticve path\n",
    "title1[0:4]# To give the range to extract the 4 results"
   ]
  },
  {
   "cell_type": "code",
   "execution_count": 510,
   "id": "4fe5800f",
   "metadata": {},
   "outputs": [],
   "source": [
    "title1_list=[]\n",
    "for i in title1:#iterating the web element over the title tag\n",
    "    title=i.text # Extracting text from web element\n",
    "    title1_list.append(title) #appending to the extracted test list to job title list\n",
    "t=title1_list[0:10]   #print the top 10 data\n"
   ]
  },
  {
   "cell_type": "code",
   "execution_count": 504,
   "id": "f03db358",
   "metadata": {},
   "outputs": [
    {
     "data": {
      "text/plain": [
       "[<selenium.webdriver.remote.webelement.WebElement (session=\"d1a19c0a573f2ce288766cb557b398ab\", element=\"b953f89d-4660-4798-9506-9ce046bd754c\")>,\n",
       " <selenium.webdriver.remote.webelement.WebElement (session=\"d1a19c0a573f2ce288766cb557b398ab\", element=\"dd83bea9-d84c-4cd3-ba43-7d2743adc831\")>,\n",
       " <selenium.webdriver.remote.webelement.WebElement (session=\"d1a19c0a573f2ce288766cb557b398ab\", element=\"4c24ce31-1228-4e67-9816-1dc56cd2f9ac\")>,\n",
       " <selenium.webdriver.remote.webelement.WebElement (session=\"d1a19c0a573f2ce288766cb557b398ab\", element=\"3ea8a0a0-4bd3-4717-b4f6-ca18906c87de\")>]"
      ]
     },
     "execution_count": 504,
     "metadata": {},
     "output_type": "execute_result"
    }
   ],
   "source": [
    "#To extract the rating\n",
    "rating1=driver.find_elements_by_xpath('//span[@class=\"a-size-base s-underline-text\"]') #Relaticve path\n",
    "rating1[0:4]# To give the range to extract the 4 results"
   ]
  },
  {
   "cell_type": "code",
   "execution_count": 509,
   "id": "7a33f725",
   "metadata": {},
   "outputs": [
    {
     "data": {
      "text/plain": [
       "['1', '110', '160', '13', '7', '11', '5', '136', '44', '17']"
      ]
     },
     "execution_count": 509,
     "metadata": {},
     "output_type": "execute_result"
    }
   ],
   "source": [
    "rating_list=[]\n",
    "for i in rating1:#iterating the web element over the title tag\n",
    "    title=i.text # Extracting text from web element\n",
    "    rating_list.append(title) #appending to the extracted test list to job title list\n",
    "r=rating_list[0:10]   #print the top 10 data\n",
    "r"
   ]
  },
  {
   "cell_type": "code",
   "execution_count": 508,
   "id": "40550339",
   "metadata": {},
   "outputs": [
    {
     "data": {
      "text/plain": [
       "10"
      ]
     },
     "execution_count": 508,
     "metadata": {},
     "output_type": "execute_result"
    }
   ],
   "source": [
    "len(r)"
   ]
  },
  {
   "cell_type": "code",
   "execution_count": 499,
   "id": "a9c5ed50",
   "metadata": {},
   "outputs": [
    {
     "data": {
      "text/plain": [
       "[<selenium.webdriver.remote.webelement.WebElement (session=\"d1a19c0a573f2ce288766cb557b398ab\", element=\"2d0d08fc-1a4a-4d12-a1cd-8d892694f3dc\")>,\n",
       " <selenium.webdriver.remote.webelement.WebElement (session=\"d1a19c0a573f2ce288766cb557b398ab\", element=\"e30e497d-66db-458e-ad56-7af26cdee1ba\")>,\n",
       " <selenium.webdriver.remote.webelement.WebElement (session=\"d1a19c0a573f2ce288766cb557b398ab\", element=\"f9b11fc4-b4bb-48d3-82f2-06dbb32a2ac6\")>,\n",
       " <selenium.webdriver.remote.webelement.WebElement (session=\"d1a19c0a573f2ce288766cb557b398ab\", element=\"cf51b225-7a70-47e1-bf04-a89ae27022b3\")>]"
      ]
     },
     "execution_count": 499,
     "metadata": {},
     "output_type": "execute_result"
    }
   ],
   "source": [
    "#To extract title\n",
    "price=driver.find_elements_by_xpath('//span[@class=\"a-price-whole\"]') #Relaticve path\n",
    "price[0:4]# To give the range to extract the 4 results"
   ]
  },
  {
   "cell_type": "code",
   "execution_count": 511,
   "id": "0eea341a",
   "metadata": {},
   "outputs": [],
   "source": [
    "price_list=[]\n",
    "for i in price:#iterating the web element over the title tag\n",
    "    title=i.text # Extracting text from web element\n",
    "    price_list.append(title) #appending to the extracted test list to job title list\n",
    "p=price_list[0:10]   #print the top 10 data"
   ]
  },
  {
   "cell_type": "code",
   "execution_count": 514,
   "id": "4996d35e",
   "metadata": {},
   "outputs": [
    {
     "data": {
      "text/html": [
       "<div>\n",
       "<style scoped>\n",
       "    .dataframe tbody tr th:only-of-type {\n",
       "        vertical-align: middle;\n",
       "    }\n",
       "\n",
       "    .dataframe tbody tr th {\n",
       "        vertical-align: top;\n",
       "    }\n",
       "\n",
       "    .dataframe thead th {\n",
       "        text-align: right;\n",
       "    }\n",
       "</style>\n",
       "<table border=\"1\" class=\"dataframe\">\n",
       "  <thead>\n",
       "    <tr style=\"text-align: right;\">\n",
       "      <th></th>\n",
       "      <th>Title</th>\n",
       "      <th>Rating</th>\n",
       "      <th>Price</th>\n",
       "    </tr>\n",
       "  </thead>\n",
       "  <tbody>\n",
       "    <tr>\n",
       "      <th>0</th>\n",
       "      <td>HP Pavilion 14 12th Gen Intel Core i7 16GB SDR...</td>\n",
       "      <td>1</td>\n",
       "      <td>87,490</td>\n",
       "    </tr>\n",
       "    <tr>\n",
       "      <th>1</th>\n",
       "      <td>ASUS VivoBook 14 (2021), 14-inch (35.56 cms) F...</td>\n",
       "      <td>110</td>\n",
       "      <td>57,490</td>\n",
       "    </tr>\n",
       "    <tr>\n",
       "      <th>2</th>\n",
       "      <td>LG Gram 17 Intel Evo 11th Gen i7 Thin &amp; Light ...</td>\n",
       "      <td>160</td>\n",
       "      <td>88,490</td>\n",
       "    </tr>\n",
       "    <tr>\n",
       "      <th>3</th>\n",
       "      <td>ASUS TUF Gaming F15 (2021), 15.6\" (39.62 cms) ...</td>\n",
       "      <td>13</td>\n",
       "      <td>85,990</td>\n",
       "    </tr>\n",
       "    <tr>\n",
       "      <th>4</th>\n",
       "      <td>Samsung Galaxy Book2 360 Intel 12th Gen i7 Evo...</td>\n",
       "      <td>7</td>\n",
       "      <td>1,05,990</td>\n",
       "    </tr>\n",
       "    <tr>\n",
       "      <th>5</th>\n",
       "      <td>Samsung Galaxy Book2 Intel 12th Gen core i7 39...</td>\n",
       "      <td>11</td>\n",
       "      <td>79,990</td>\n",
       "    </tr>\n",
       "    <tr>\n",
       "      <th>6</th>\n",
       "      <td>HP Pavilion x360 11th Gen Intel Core i7 14 inc...</td>\n",
       "      <td>5</td>\n",
       "      <td>85,490</td>\n",
       "    </tr>\n",
       "    <tr>\n",
       "      <th>7</th>\n",
       "      <td>LG Gram 14 Intel Evo 11th Gen  i7 Thin &amp; Light...</td>\n",
       "      <td>136</td>\n",
       "      <td>87,990</td>\n",
       "    </tr>\n",
       "    <tr>\n",
       "      <th>8</th>\n",
       "      <td>Lenovo ThinkBook 15 Intel 11th Gen Core i7 15....</td>\n",
       "      <td>44</td>\n",
       "      <td>86,990</td>\n",
       "    </tr>\n",
       "    <tr>\n",
       "      <th>9</th>\n",
       "      <td>ASUS TUF Gaming F15 (2021) 15.6-inch (39.62 cm...</td>\n",
       "      <td>17</td>\n",
       "      <td>86,990</td>\n",
       "    </tr>\n",
       "  </tbody>\n",
       "</table>\n",
       "</div>"
      ],
      "text/plain": [
       "                                               Title Rating     Price\n",
       "0  HP Pavilion 14 12th Gen Intel Core i7 16GB SDR...      1    87,490\n",
       "1  ASUS VivoBook 14 (2021), 14-inch (35.56 cms) F...    110    57,490\n",
       "2  LG Gram 17 Intel Evo 11th Gen i7 Thin & Light ...    160    88,490\n",
       "3  ASUS TUF Gaming F15 (2021), 15.6\" (39.62 cms) ...     13    85,990\n",
       "4  Samsung Galaxy Book2 360 Intel 12th Gen i7 Evo...      7  1,05,990\n",
       "5  Samsung Galaxy Book2 Intel 12th Gen core i7 39...     11    79,990\n",
       "6  HP Pavilion x360 11th Gen Intel Core i7 14 inc...      5    85,490\n",
       "7  LG Gram 14 Intel Evo 11th Gen  i7 Thin & Light...    136    87,990\n",
       "8  Lenovo ThinkBook 15 Intel 11th Gen Core i7 15....     44    86,990\n",
       "9  ASUS TUF Gaming F15 (2021) 15.6-inch (39.62 cm...     17    86,990"
      ]
     },
     "execution_count": 514,
     "metadata": {},
     "output_type": "execute_result"
    }
   ],
   "source": [
    "df=pd.DataFrame({\"Title\":t,\"Rating\":r,\"Price\":p})\n",
    "df"
   ]
  },
  {
   "cell_type": "markdown",
   "id": "5be1cdcb",
   "metadata": {},
   "source": [
    "# Q9: Write a python program to scrape data for first 10 job results for Data Scientist Designation in Noida\n",
    "location. You have to scrape company name, No. of days ago when job was posted, Rating of the company.\n",
    "This task will be done in following steps:\n",
    "1. First get the webpage https://www.ambitionbox.com/\n",
    "2. Click on the Job option as shown in the image\n",
    "3. After reaching to the next webpage, In place of “Search by Designations, Companies, Skills” enter\n",
    "“Data Scientist” and click on search button.\n",
    "4. You will reach to the following web page click on location and in place of “Search location” enter\n",
    "“Noida” and select location “Noida”.\n",
    "5. Then scrape the data for the first 10 jobs results you get on the above shown page.\n",
    "6. Finally create a dataframe of the scraped data.\n",
    "Note: All the steps required during scraping should be done through code only and not manually.\n"
   ]
  },
  {
   "cell_type": "code",
   "execution_count": 449,
   "id": "43600b39",
   "metadata": {},
   "outputs": [],
   "source": [
    "driver=webdriver.Chrome(\"chromedriver.exe\") #Run from the current directory\n",
    "time.sleep(2)"
   ]
  },
  {
   "cell_type": "code",
   "execution_count": 450,
   "id": "a7b50543",
   "metadata": {},
   "outputs": [],
   "source": [
    "#To access the website by by code\n",
    "driver.get(\" https://www.ambitionbox.com/\")"
   ]
  },
  {
   "cell_type": "code",
   "execution_count": 452,
   "id": "9d4d1ddb",
   "metadata": {},
   "outputs": [],
   "source": [
    "#To click on the job option\n",
    "search_button2=driver.find_element_by_xpath('/html/body/div[1]/nav/nav/a[6]')# Absolute path\n",
    "search_button2.click()\n"
   ]
  },
  {
   "cell_type": "code",
   "execution_count": 462,
   "id": "c5ec67f2",
   "metadata": {},
   "outputs": [],
   "source": [
    "#To search the data scintist sending as key\n",
    "search_field_loc=driver.find_element_by_xpath('/html/body/div/div/div/div[2]/div[1]/div[1]/div/div/div/div/span/input')# Absolute path\n",
    "search_field_loc.send_keys('Data Scientist')"
   ]
  },
  {
   "cell_type": "code",
   "execution_count": 463,
   "id": "2751d935",
   "metadata": {},
   "outputs": [],
   "source": [
    "#To click on search button\n",
    "search_button3=driver.find_element_by_xpath('/html/body/div/div/div/div[2]/div[1]/div[1]/div/div/div/button/span')# Absolute path\n",
    "search_button3.click()"
   ]
  },
  {
   "cell_type": "code",
   "execution_count": 464,
   "id": "924f46a3",
   "metadata": {},
   "outputs": [],
   "source": [
    "#To click on the location\n",
    "search_button4=driver.find_element_by_xpath('/html/body/div/div/div/div[2]/div[1]/div[2]/div[1]/div/div/div/div[2]/div[1]')# Absolute path\n",
    "search_button4.click()\n"
   ]
  },
  {
   "cell_type": "code",
   "execution_count": 465,
   "id": "ec16c149",
   "metadata": {},
   "outputs": [],
   "source": [
    "#To search to enter noida\n",
    "search_field_loc=driver.find_element_by_xpath('/html/body/div/div/div/div[2]/div[1]/div[2]/div[1]/div/div/div/div[2]/div[2]/div/div[2]/input')# Absolute path\n",
    "search_field_loc.send_keys('Noida')"
   ]
  },
  {
   "cell_type": "code",
   "execution_count": 466,
   "id": "172f5242",
   "metadata": {},
   "outputs": [],
   "source": [
    "#To click on the \"Noida\"\n",
    "search_button5=driver.find_element_by_xpath('/html/body/div/div/div/div[2]/div[1]/div[2]/div[1]/div/div/div/div[2]/div[2]/div/div[3]/div[1]/div[1]/div/label')# Absolute path\n",
    "search_button5.click()\n"
   ]
  },
  {
   "cell_type": "code",
   "execution_count": 472,
   "id": "cb10dd5f",
   "metadata": {},
   "outputs": [
    {
     "data": {
      "text/html": [
       "<div>\n",
       "<style scoped>\n",
       "    .dataframe tbody tr th:only-of-type {\n",
       "        vertical-align: middle;\n",
       "    }\n",
       "\n",
       "    .dataframe tbody tr th {\n",
       "        vertical-align: top;\n",
       "    }\n",
       "\n",
       "    .dataframe thead th {\n",
       "        text-align: right;\n",
       "    }\n",
       "</style>\n",
       "<table border=\"1\" class=\"dataframe\">\n",
       "  <thead>\n",
       "    <tr style=\"text-align: right;\">\n",
       "      <th></th>\n",
       "      <th>First 10 jobs==================&gt;</th>\n",
       "    </tr>\n",
       "  </thead>\n",
       "  <tbody>\n",
       "    <tr>\n",
       "      <th>0</th>\n",
       "      <td>Data Scientist\\nGENPACT India Private Limited\\...</td>\n",
       "    </tr>\n",
       "    <tr>\n",
       "      <th>1</th>\n",
       "      <td>Senior Data Scientist\\nOptum Global Solutions ...</td>\n",
       "    </tr>\n",
       "    <tr>\n",
       "      <th>2</th>\n",
       "      <td>Data Scientist -Machine Learning with Python\\n...</td>\n",
       "    </tr>\n",
       "    <tr>\n",
       "      <th>3</th>\n",
       "      <td>Data Scientist - OIP\\nHcl Technologies Limited...</td>\n",
       "    </tr>\n",
       "    <tr>\n",
       "      <th>4</th>\n",
       "      <td>Data Scientist- AI/ML- R&amp;D\\nEXL Services.com (...</td>\n",
       "    </tr>\n",
       "    <tr>\n",
       "      <th>5</th>\n",
       "      <td>Data Science - Lead Data Scientist\\nPaytm\\n3.7...</td>\n",
       "    </tr>\n",
       "    <tr>\n",
       "      <th>6</th>\n",
       "      <td>Data Scientist (Python) Immediate Joiners\\nOm ...</td>\n",
       "    </tr>\n",
       "    <tr>\n",
       "      <th>7</th>\n",
       "      <td>Data Scientist - Associate Vice President\\nPay...</td>\n",
       "    </tr>\n",
       "    <tr>\n",
       "      <th>8</th>\n",
       "      <td>Data Scientist - MIND Infotech\\nMOTHERSONSUMI ...</td>\n",
       "    </tr>\n",
       "    <tr>\n",
       "      <th>9</th>\n",
       "      <td>Data Scientist\\nAshkom Media India Private Lim...</td>\n",
       "    </tr>\n",
       "  </tbody>\n",
       "</table>\n",
       "</div>"
      ],
      "text/plain": [
       "                    First 10 jobs==================>\n",
       "0  Data Scientist\\nGENPACT India Private Limited\\...\n",
       "1  Senior Data Scientist\\nOptum Global Solutions ...\n",
       "2  Data Scientist -Machine Learning with Python\\n...\n",
       "3  Data Scientist - OIP\\nHcl Technologies Limited...\n",
       "4  Data Scientist- AI/ML- R&D\\nEXL Services.com (...\n",
       "5  Data Science - Lead Data Scientist\\nPaytm\\n3.7...\n",
       "6  Data Scientist (Python) Immediate Joiners\\nOm ...\n",
       "7  Data Scientist - Associate Vice President\\nPay...\n",
       "8  Data Scientist - MIND Infotech\\nMOTHERSONSUMI ...\n",
       "9  Data Scientist\\nAshkom Media India Private Lim..."
      ]
     },
     "execution_count": 472,
     "metadata": {},
     "output_type": "execute_result"
    }
   ],
   "source": [
    "#To extract the job details\n",
    "job_list=[]\n",
    "job=driver.find_elements_by_xpath('//div[@class=\"info\"]') #Relaticve path\n",
    "job[0:10]# To give the range to extract the 10 results\n",
    "for i in job:#iterating the web element over the title tag\n",
    "    title=i.text # Extracting text from web element\n",
    "    job_list.append(title) #appending to the extracted test list to job title list\n",
    "job=job_list[0:10]   #print the top 10 data\n",
    "\n",
    "df=pd.DataFrame({\"First 10 jobs==================>\":job})\n",
    "df"
   ]
  },
  {
   "cell_type": "code",
   "execution_count": 473,
   "id": "4ed8894e",
   "metadata": {},
   "outputs": [],
   "source": [
    "driver.close()"
   ]
  },
  {
   "cell_type": "markdown",
   "id": "7c73a6a3",
   "metadata": {},
   "source": [
    "# Q10: Write a python program to scrape the salary data for Data Scientist designation.\n",
    "You have to scrape Company name, Number of salaries, Average salary, Minsalary, Max Salary.\n",
    "The above task will be, done as shown in the below steps:\n",
    "1. First get the webpage https://www.ambitionbox.com/\n",
    "2. Click on the salaries option as shown in the image.\n",
    "3. After reaching to the following webpage, In place of “Search Job Profile” enters “Data Scientist” and\n",
    "then click on “Data Scientist”.\n",
    "You have to scrape the data ticked in the above image.\n",
    "4. Scrape the data for the first 10 companies. Scrape the company name, total salary record, average\n",
    "salary, minimum salary, maximum salary, experience required.\n",
    "5. Store the data in a dataframe.\n",
    "Note: All the steps required during scraping should be done through code only and not manually"
   ]
  },
  {
   "cell_type": "code",
   "execution_count": 357,
   "id": "baa85e66",
   "metadata": {},
   "outputs": [],
   "source": [
    "driver=webdriver.Chrome(\"chromedriver.exe\") #Run from the current directory\n",
    "time.sleep(2)\n"
   ]
  },
  {
   "cell_type": "code",
   "execution_count": 358,
   "id": "7415a71c",
   "metadata": {},
   "outputs": [],
   "source": [
    "#To access the website by by code\n",
    "driver.get(\" https://www.ambitionbox.com/\")"
   ]
  },
  {
   "cell_type": "code",
   "execution_count": 360,
   "id": "a5c249d8",
   "metadata": {},
   "outputs": [],
   "source": [
    "#To click on the salary\n",
    "search_button1=driver.find_element_by_xpath('/html/body/div[1]/nav/nav/a[4]')# Absolute path\n",
    "search_button1.click()\n"
   ]
  },
  {
   "cell_type": "code",
   "execution_count": 363,
   "id": "64fc6b99",
   "metadata": {},
   "outputs": [],
   "source": [
    "#To search the data scintist sending as key\n",
    "search_field_loc=driver.find_element_by_xpath('/html/body/div/div/div/main/section[1]/div[2]/div[1]/span/input')# Absolute path\n",
    "search_field_loc.send_keys('Data Scientist')\n"
   ]
  },
  {
   "cell_type": "code",
   "execution_count": 364,
   "id": "abcb5fb7",
   "metadata": {},
   "outputs": [],
   "source": [
    "#To click on search button\n",
    "search_button=driver.find_element_by_xpath('/html/body/div/div/div/main/section[1]/div[2]/div[1]/span/div/div/div[1]/div/div/p')# Absolute path\n",
    "search_button.click()"
   ]
  },
  {
   "cell_type": "code",
   "execution_count": 434,
   "id": "c7230e7b",
   "metadata": {},
   "outputs": [
    {
     "data": {
      "text/plain": [
       "[<selenium.webdriver.remote.webelement.WebElement (session=\"fc4c0e5dd32f321787e5129a648cdd43\", element=\"f825fe4a-0217-4a37-ae3d-642f2bc57927\")>,\n",
       " <selenium.webdriver.remote.webelement.WebElement (session=\"fc4c0e5dd32f321787e5129a648cdd43\", element=\"2fd94c5a-dd55-47f5-b9d9-62d97c6c04b1\")>,\n",
       " <selenium.webdriver.remote.webelement.WebElement (session=\"fc4c0e5dd32f321787e5129a648cdd43\", element=\"81e69b6e-837b-4340-87cd-2785b003cebb\")>,\n",
       " <selenium.webdriver.remote.webelement.WebElement (session=\"fc4c0e5dd32f321787e5129a648cdd43\", element=\"708a45ae-798b-41ae-a2a8-7f09238f8647\")>]"
      ]
     },
     "execution_count": 434,
     "metadata": {},
     "output_type": "execute_result"
    }
   ],
   "source": [
    "#To extract the company name\n",
    "company_name=driver.find_elements_by_xpath('//div[@class=\"name\"]') #Relaticve path\n",
    "company_name[0:4]# To give the range to extract the 4 results\n"
   ]
  },
  {
   "cell_type": "code",
   "execution_count": 430,
   "id": "17af4d4f",
   "metadata": {},
   "outputs": [
    {
     "data": {
      "text/plain": [
       "10"
      ]
     },
     "execution_count": 430,
     "metadata": {},
     "output_type": "execute_result"
    }
   ],
   "source": [
    "list=[]\n",
    "#Loop to iterate the tag extract from the abovr code\n",
    "for i in company_name:#iterating the web element over the title tag\n",
    "    title=i.text # Extracting text from web element\n",
    "    list.append(title) #appending to the extracted test list to job title list\n",
    "company=list[0:10]   #print the top 10 data\n",
    "company\n",
    "\n",
    "len(company)"
   ]
  },
  {
   "cell_type": "code",
   "execution_count": 435,
   "id": "bba6db69",
   "metadata": {},
   "outputs": [
    {
     "data": {
      "text/plain": [
       "[<selenium.webdriver.remote.webelement.WebElement (session=\"fc4c0e5dd32f321787e5129a648cdd43\", element=\"44a1fe47-79df-4c84-8e5f-63affd2dfb7a\")>,\n",
       " <selenium.webdriver.remote.webelement.WebElement (session=\"fc4c0e5dd32f321787e5129a648cdd43\", element=\"c35ae6ad-e3bc-4539-898e-f97ccf87d918\")>,\n",
       " <selenium.webdriver.remote.webelement.WebElement (session=\"fc4c0e5dd32f321787e5129a648cdd43\", element=\"fe86364b-1f59-465d-b3e0-621a7d12fcee\")>,\n",
       " <selenium.webdriver.remote.webelement.WebElement (session=\"fc4c0e5dd32f321787e5129a648cdd43\", element=\"fa522d1f-215e-45e7-91bf-c87982a9e78f\")>]"
      ]
     },
     "execution_count": 435,
     "metadata": {},
     "output_type": "execute_result"
    }
   ],
   "source": [
    "#To extract the experience\n",
    "exp=driver.find_elements_by_xpath('//div[@class=\"salaries sbold-list-header\"]') #Relaticve path\n",
    "exp[0:4]# To give the range to extract the 4 results"
   ]
  },
  {
   "cell_type": "code",
   "execution_count": 436,
   "id": "ef18a635",
   "metadata": {},
   "outputs": [],
   "source": [
    "list1=[]\n",
    "#Loop to iterate the tag extract from the abovr code\n",
    "for i in exp:#iterating the web element over the title tag\n",
    "    #title=i.text # Extracting text from web element\n",
    "    list1.append(i.text.replace('Data Scientist\\n . \\n','')) #appending to the extracted test list to job title list\n",
    "exp=list1[0:10]   #print the top 10 data\n"
   ]
  },
  {
   "cell_type": "code",
   "execution_count": 437,
   "id": "e91b8e8b",
   "metadata": {},
   "outputs": [
    {
     "data": {
      "text/plain": [
       "[<selenium.webdriver.remote.webelement.WebElement (session=\"fc4c0e5dd32f321787e5129a648cdd43\", element=\"6c3d0b48-dcd3-45c9-9742-0e89d8695a05\")>,\n",
       " <selenium.webdriver.remote.webelement.WebElement (session=\"fc4c0e5dd32f321787e5129a648cdd43\", element=\"e93a2f83-15d4-462c-99cf-739b50be3e6e\")>,\n",
       " <selenium.webdriver.remote.webelement.WebElement (session=\"fc4c0e5dd32f321787e5129a648cdd43\", element=\"ea844bc7-794a-4529-8e70-0dd03aec5112\")>,\n",
       " <selenium.webdriver.remote.webelement.WebElement (session=\"fc4c0e5dd32f321787e5129a648cdd43\", element=\"0f668bc9-155f-402e-9936-3c94c06d9418\")>]"
      ]
     },
     "execution_count": 437,
     "metadata": {},
     "output_type": "execute_result"
    }
   ],
   "source": [
    "#To extract the min and max salary\n",
    "\n",
    "minmax=driver.find_elements_by_xpath('//div[@class=\"value body-medium\"]') #Relaticve path\n",
    "minmax[0:4]# To give the range to extract the 4 results"
   ]
  },
  {
   "cell_type": "code",
   "execution_count": 438,
   "id": "25c80427",
   "metadata": {},
   "outputs": [],
   "source": [
    "list2=[]\n",
    "#Loop to iterate the tag extract from the abovr code\n",
    "for i in minmax:#iterating the web element over the title tag\n",
    "    title=i.text # Extracting text from web element\n",
    "    list2.append(title) #appending to the extracted test list to job title list\n",
    "maxmin=list2   #print the top 10 data\n"
   ]
  },
  {
   "cell_type": "code",
   "execution_count": 439,
   "id": "f3b30bb6",
   "metadata": {},
   "outputs": [],
   "source": [
    "minimum=maxmin[::2] # Separated minimum salary list\n"
   ]
  },
  {
   "cell_type": "code",
   "execution_count": 440,
   "id": "3e8255e7",
   "metadata": {},
   "outputs": [],
   "source": [
    "maximum=maxmin[::-2]\n",
    "maximum.reverse() # Seperated maximum salary output\n"
   ]
  },
  {
   "cell_type": "code",
   "execution_count": 447,
   "id": "d3815141",
   "metadata": {},
   "outputs": [
    {
     "data": {
      "text/plain": [
       "[<selenium.webdriver.remote.webelement.WebElement (session=\"fc4c0e5dd32f321787e5129a648cdd43\", element=\"b8149b8d-66b6-4017-b6f0-8086c38affa3\")>,\n",
       " <selenium.webdriver.remote.webelement.WebElement (session=\"fc4c0e5dd32f321787e5129a648cdd43\", element=\"bac388e2-5989-427d-81d5-8138ef68402b\")>,\n",
       " <selenium.webdriver.remote.webelement.WebElement (session=\"fc4c0e5dd32f321787e5129a648cdd43\", element=\"8b3d4fb5-d090-40e3-87ed-8f3a56ff2318\")>,\n",
       " <selenium.webdriver.remote.webelement.WebElement (session=\"fc4c0e5dd32f321787e5129a648cdd43\", element=\"5e3e5a94-38fe-478e-87dc-56ac2c51ca78\")>]"
      ]
     },
     "execution_count": 447,
     "metadata": {},
     "output_type": "execute_result"
    }
   ],
   "source": [
    "#To extract the min and average salary\n",
    "#To extract the experience\n",
    "avg=driver.find_elements_by_xpath('//p[@class=\"averageCtc\"]') #Relaticve path\n",
    "avg[0:4]# To give the range to extract the 10 results"
   ]
  },
  {
   "cell_type": "code",
   "execution_count": null,
   "id": "608fe0bf",
   "metadata": {},
   "outputs": [],
   "source": []
  },
  {
   "cell_type": "code",
   "execution_count": 448,
   "id": "af205a03",
   "metadata": {},
   "outputs": [],
   "source": [
    "#To obtain the average salary\n",
    "list3=[]\n",
    "#Loop to iterate the tag extract from the abovr code\n",
    "for i in avg:#iterating the web element over the title tag\n",
    "    title=i.text # Extracting text from web element\n",
    "    list3.append(title) #appending to the extracted test list to job title list\n",
    "avg=list3 "
   ]
  },
  {
   "cell_type": "code",
   "execution_count": 446,
   "id": "087f218a",
   "metadata": {},
   "outputs": [
    {
     "data": {
      "text/html": [
       "<div>\n",
       "<style scoped>\n",
       "    .dataframe tbody tr th:only-of-type {\n",
       "        vertical-align: middle;\n",
       "    }\n",
       "\n",
       "    .dataframe tbody tr th {\n",
       "        vertical-align: top;\n",
       "    }\n",
       "\n",
       "    .dataframe thead th {\n",
       "        text-align: right;\n",
       "    }\n",
       "</style>\n",
       "<table border=\"1\" class=\"dataframe\">\n",
       "  <thead>\n",
       "    <tr style=\"text-align: right;\">\n",
       "      <th></th>\n",
       "      <th>Company_name</th>\n",
       "      <th>Experience</th>\n",
       "      <th>Minimum</th>\n",
       "      <th>Maximum</th>\n",
       "      <th>Average</th>\n",
       "    </tr>\n",
       "  </thead>\n",
       "  <tbody>\n",
       "    <tr>\n",
       "      <th>0</th>\n",
       "      <td>Walmart\\nbased on 12 salaries</td>\n",
       "      <td>3 yrs exp</td>\n",
       "      <td>₹ 25.0L</td>\n",
       "      <td>₹ 36.0L</td>\n",
       "      <td>₹ 30.2L</td>\n",
       "    </tr>\n",
       "    <tr>\n",
       "      <th>1</th>\n",
       "      <td>Ab Inbev\\nbased on 33 salaries</td>\n",
       "      <td>3-4 yrs exp</td>\n",
       "      <td>₹ 15.0L</td>\n",
       "      <td>₹ 25.5L</td>\n",
       "      <td>₹ 20.6L</td>\n",
       "    </tr>\n",
       "    <tr>\n",
       "      <th>2</th>\n",
       "      <td>American Express\\nbased on 10 salaries</td>\n",
       "      <td>4 yrs exp</td>\n",
       "      <td>₹ 14.1L</td>\n",
       "      <td>₹ 25.0L</td>\n",
       "      <td>₹ 19.9L</td>\n",
       "    </tr>\n",
       "    <tr>\n",
       "      <th>3</th>\n",
       "      <td>ZS\\nbased on 15 salaries</td>\n",
       "      <td>2 yrs exp</td>\n",
       "      <td>₹ 11.0L</td>\n",
       "      <td>₹ 22.0L</td>\n",
       "      <td>₹ 16.7L</td>\n",
       "    </tr>\n",
       "    <tr>\n",
       "      <th>4</th>\n",
       "      <td>Optum\\nbased on 33 salaries</td>\n",
       "      <td>3-4 yrs exp</td>\n",
       "      <td>₹ 11.0L</td>\n",
       "      <td>₹ 22.6L</td>\n",
       "      <td>₹ 16.1L</td>\n",
       "    </tr>\n",
       "    <tr>\n",
       "      <th>5</th>\n",
       "      <td>Reliance Jio\\nbased on 21 salaries</td>\n",
       "      <td>3-4 yrs exp</td>\n",
       "      <td>₹ 5.6L</td>\n",
       "      <td>₹ 26.2L</td>\n",
       "      <td>₹ 15.7L</td>\n",
       "    </tr>\n",
       "    <tr>\n",
       "      <th>6</th>\n",
       "      <td>Fractal Analytics\\nbased on 83 salaries</td>\n",
       "      <td>2-4 yrs exp</td>\n",
       "      <td>₹ 10.0L</td>\n",
       "      <td>₹ 22.0L</td>\n",
       "      <td>₹ 15.4L</td>\n",
       "    </tr>\n",
       "    <tr>\n",
       "      <th>7</th>\n",
       "      <td>Tiger Analytics\\nbased on 50 salaries</td>\n",
       "      <td>2-4 yrs exp</td>\n",
       "      <td>₹ 9.0L</td>\n",
       "      <td>₹ 20.0L</td>\n",
       "      <td>₹ 14.8L</td>\n",
       "    </tr>\n",
       "    <tr>\n",
       "      <th>8</th>\n",
       "      <td>UnitedHealth\\nbased on 57 salaries</td>\n",
       "      <td>2-4 yrs exp</td>\n",
       "      <td>₹ 8.3L</td>\n",
       "      <td>₹ 21.1L</td>\n",
       "      <td>₹ 14.0L</td>\n",
       "    </tr>\n",
       "    <tr>\n",
       "      <th>9</th>\n",
       "      <td>EXL Service\\nbased on 10 salaries</td>\n",
       "      <td>4 yrs exp</td>\n",
       "      <td>₹ 8.9L</td>\n",
       "      <td>₹ 21.0L</td>\n",
       "      <td>₹ 13.3L</td>\n",
       "    </tr>\n",
       "  </tbody>\n",
       "</table>\n",
       "</div>"
      ],
      "text/plain": [
       "                              Company_name   Experience  Minimum  Maximum  \\\n",
       "0            Walmart\\nbased on 12 salaries    3 yrs exp  ₹ 25.0L  ₹ 36.0L   \n",
       "1           Ab Inbev\\nbased on 33 salaries  3-4 yrs exp  ₹ 15.0L  ₹ 25.5L   \n",
       "2   American Express\\nbased on 10 salaries    4 yrs exp  ₹ 14.1L  ₹ 25.0L   \n",
       "3                 ZS\\nbased on 15 salaries    2 yrs exp  ₹ 11.0L  ₹ 22.0L   \n",
       "4              Optum\\nbased on 33 salaries  3-4 yrs exp  ₹ 11.0L  ₹ 22.6L   \n",
       "5       Reliance Jio\\nbased on 21 salaries  3-4 yrs exp   ₹ 5.6L  ₹ 26.2L   \n",
       "6  Fractal Analytics\\nbased on 83 salaries  2-4 yrs exp  ₹ 10.0L  ₹ 22.0L   \n",
       "7    Tiger Analytics\\nbased on 50 salaries  2-4 yrs exp   ₹ 9.0L  ₹ 20.0L   \n",
       "8       UnitedHealth\\nbased on 57 salaries  2-4 yrs exp   ₹ 8.3L  ₹ 21.1L   \n",
       "9        EXL Service\\nbased on 10 salaries    4 yrs exp   ₹ 8.9L  ₹ 21.0L   \n",
       "\n",
       "   Average  \n",
       "0  ₹ 30.2L  \n",
       "1  ₹ 20.6L  \n",
       "2  ₹ 19.9L  \n",
       "3  ₹ 16.7L  \n",
       "4  ₹ 16.1L  \n",
       "5  ₹ 15.7L  \n",
       "6  ₹ 15.4L  \n",
       "7  ₹ 14.8L  \n",
       "8  ₹ 14.0L  \n",
       "9  ₹ 13.3L  "
      ]
     },
     "execution_count": 446,
     "metadata": {},
     "output_type": "execute_result"
    }
   ],
   "source": [
    "df=pd.DataFrame({'Company_name': company,'Experience':exp,'Minimum':minimum,'Maximum':maximum,'Average':avg})\n",
    "df"
   ]
  },
  {
   "cell_type": "code",
   "execution_count": null,
   "id": "4bca37d6",
   "metadata": {},
   "outputs": [],
   "source": []
  }
 ],
 "metadata": {
  "kernelspec": {
   "display_name": "Python 3 (ipykernel)",
   "language": "python",
   "name": "python3"
  },
  "language_info": {
   "codemirror_mode": {
    "name": "ipython",
    "version": 3
   },
   "file_extension": ".py",
   "mimetype": "text/x-python",
   "name": "python",
   "nbconvert_exporter": "python",
   "pygments_lexer": "ipython3",
   "version": "3.9.7"
  }
 },
 "nbformat": 4,
 "nbformat_minor": 5
}
